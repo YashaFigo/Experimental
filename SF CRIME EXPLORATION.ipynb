{
 "cells": [
  {
   "cell_type": "markdown",
   "metadata": {},
   "source": [
    "# SF CRIME DATA KAGGLE EXPLORATION"
   ]
  },
  {
   "cell_type": "markdown",
   "metadata": {},
   "source": [
    "---"
   ]
  },
  {
   "cell_type": "markdown",
   "metadata": {},
   "source": [
    "https://www.kaggle.com/c/sf-crime/data?test.csv.zip"
   ]
  },
  {
   "cell_type": "markdown",
   "metadata": {},
   "source": [
    "This dataset contains incidents derived from SFPD Crime Incident Reporting system. The data ranges from 1/1/2003 to 5/13/2015. The training set and test set rotate every week, meaning week 1,3,5,7... belong to test set, week 2,4,6,8 belong to training set. "
   ]
  },
  {
   "cell_type": "markdown",
   "metadata": {},
   "source": [
    "Data fields\n",
    "\n",
    "* Dates - timestamp of the crime incident\n",
    ">* Category - category of the crime incident (only in train.csv). This is * the target variable we are going to predict.\n",
    ">* Descript - detailed description of the crime incident (only in train.csv)\n",
    "* DayOfWeek - the day of the week\n",
    "* PdDistrict - name of the Police Department District\n",
    ">* Resolution - how the crime incident was resolved (only in train.csv)\n",
    "* Address - the approximate street address of the crime incident \n",
    "* X - Longitude\n",
    "* Y - Latitude"
   ]
  },
  {
   "cell_type": "markdown",
   "metadata": {},
   "source": [
    "# OBJECTIVE: PREDICT CATEGORY OF CRIME BASED ON OTHER FEATURES"
   ]
  },
  {
   "cell_type": "markdown",
   "metadata": {},
   "source": [
    "---"
   ]
  },
  {
   "cell_type": "markdown",
   "metadata": {},
   "source": [
    "NOTES: \n",
    "We will be predicting based on variables in the test dataset, which does not include the descrip, category, or resolution columns"
   ]
  },
  {
   "cell_type": "markdown",
   "metadata": {},
   "source": [
    ">The columns we'll have left to play with are:\n",
    "* Dates - timestamp of the crime incident\n",
    "* Address - the approximate street address of the crime incident \n",
    "* X - Longitude\n",
    "* Y - Latitude\n",
    "* DayOfWeek - the day of the week\n",
    "* PdDistrict - name of the Police Department District"
   ]
  },
  {
   "cell_type": "markdown",
   "metadata": {},
   "source": [
    "---"
   ]
  },
  {
   "cell_type": "markdown",
   "metadata": {},
   "source": [
    "### IMPORTS:"
   ]
  },
  {
   "cell_type": "code",
   "execution_count": 202,
   "metadata": {
    "collapsed": false
   },
   "outputs": [],
   "source": [
    "import matplotlib.pyplot as plt\n",
    "import numpy as np\n",
    "%matplotlib inline"
   ]
  },
  {
   "cell_type": "code",
   "execution_count": null,
   "metadata": {
    "collapsed": true
   },
   "outputs": [],
   "source": [
    "import pandas as pd\n",
    "import numpy as np"
   ]
  },
  {
   "cell_type": "markdown",
   "metadata": {},
   "source": [
    "----"
   ]
  },
  {
   "cell_type": "markdown",
   "metadata": {},
   "source": [
    "#### INITIAL EXPLORATION"
   ]
  },
  {
   "cell_type": "code",
   "execution_count": 1,
   "metadata": {
    "collapsed": false
   },
   "outputs": [
    {
     "name": "stdout",
     "output_type": "stream",
     "text": [
      "SF CRIME EXPLORATION 1.ipynb  test.csv\r\n",
      "sampleSubmission.csv          train.csv\r\n"
     ]
    }
   ],
   "source": [
    "%ls"
   ]
  },
  {
   "cell_type": "code",
   "execution_count": 5,
   "metadata": {
    "collapsed": false
   },
   "outputs": [
    {
     "data": {
      "text/html": [
       "<div>\n",
       "<table border=\"1\" class=\"dataframe\">\n",
       "  <thead>\n",
       "    <tr style=\"text-align: right;\">\n",
       "      <th></th>\n",
       "      <th>Dates</th>\n",
       "      <th>Category</th>\n",
       "      <th>Descript</th>\n",
       "      <th>DayOfWeek</th>\n",
       "      <th>PdDistrict</th>\n",
       "      <th>Resolution</th>\n",
       "      <th>Address</th>\n",
       "      <th>X</th>\n",
       "      <th>Y</th>\n",
       "    </tr>\n",
       "  </thead>\n",
       "  <tbody>\n",
       "    <tr>\n",
       "      <th>0</th>\n",
       "      <td>2015-05-13 23:53:00</td>\n",
       "      <td>WARRANTS</td>\n",
       "      <td>WARRANT ARREST</td>\n",
       "      <td>Wednesday</td>\n",
       "      <td>NORTHERN</td>\n",
       "      <td>ARREST, BOOKED</td>\n",
       "      <td>OAK ST / LAGUNA ST</td>\n",
       "      <td>-122.425892</td>\n",
       "      <td>37.774599</td>\n",
       "    </tr>\n",
       "    <tr>\n",
       "      <th>1</th>\n",
       "      <td>2015-05-13 23:53:00</td>\n",
       "      <td>OTHER OFFENSES</td>\n",
       "      <td>TRAFFIC VIOLATION ARREST</td>\n",
       "      <td>Wednesday</td>\n",
       "      <td>NORTHERN</td>\n",
       "      <td>ARREST, BOOKED</td>\n",
       "      <td>OAK ST / LAGUNA ST</td>\n",
       "      <td>-122.425892</td>\n",
       "      <td>37.774599</td>\n",
       "    </tr>\n",
       "    <tr>\n",
       "      <th>2</th>\n",
       "      <td>2015-05-13 23:33:00</td>\n",
       "      <td>OTHER OFFENSES</td>\n",
       "      <td>TRAFFIC VIOLATION ARREST</td>\n",
       "      <td>Wednesday</td>\n",
       "      <td>NORTHERN</td>\n",
       "      <td>ARREST, BOOKED</td>\n",
       "      <td>VANNESS AV / GREENWICH ST</td>\n",
       "      <td>-122.424363</td>\n",
       "      <td>37.800414</td>\n",
       "    </tr>\n",
       "    <tr>\n",
       "      <th>3</th>\n",
       "      <td>2015-05-13 23:30:00</td>\n",
       "      <td>LARCENY/THEFT</td>\n",
       "      <td>GRAND THEFT FROM LOCKED AUTO</td>\n",
       "      <td>Wednesday</td>\n",
       "      <td>NORTHERN</td>\n",
       "      <td>NONE</td>\n",
       "      <td>1500 Block of LOMBARD ST</td>\n",
       "      <td>-122.426995</td>\n",
       "      <td>37.800873</td>\n",
       "    </tr>\n",
       "    <tr>\n",
       "      <th>4</th>\n",
       "      <td>2015-05-13 23:30:00</td>\n",
       "      <td>LARCENY/THEFT</td>\n",
       "      <td>GRAND THEFT FROM LOCKED AUTO</td>\n",
       "      <td>Wednesday</td>\n",
       "      <td>PARK</td>\n",
       "      <td>NONE</td>\n",
       "      <td>100 Block of BRODERICK ST</td>\n",
       "      <td>-122.438738</td>\n",
       "      <td>37.771541</td>\n",
       "    </tr>\n",
       "  </tbody>\n",
       "</table>\n",
       "</div>"
      ],
      "text/plain": [
       "                 Dates        Category                      Descript  \\\n",
       "0  2015-05-13 23:53:00        WARRANTS                WARRANT ARREST   \n",
       "1  2015-05-13 23:53:00  OTHER OFFENSES      TRAFFIC VIOLATION ARREST   \n",
       "2  2015-05-13 23:33:00  OTHER OFFENSES      TRAFFIC VIOLATION ARREST   \n",
       "3  2015-05-13 23:30:00   LARCENY/THEFT  GRAND THEFT FROM LOCKED AUTO   \n",
       "4  2015-05-13 23:30:00   LARCENY/THEFT  GRAND THEFT FROM LOCKED AUTO   \n",
       "\n",
       "   DayOfWeek PdDistrict      Resolution                    Address  \\\n",
       "0  Wednesday   NORTHERN  ARREST, BOOKED         OAK ST / LAGUNA ST   \n",
       "1  Wednesday   NORTHERN  ARREST, BOOKED         OAK ST / LAGUNA ST   \n",
       "2  Wednesday   NORTHERN  ARREST, BOOKED  VANNESS AV / GREENWICH ST   \n",
       "3  Wednesday   NORTHERN            NONE   1500 Block of LOMBARD ST   \n",
       "4  Wednesday       PARK            NONE  100 Block of BRODERICK ST   \n",
       "\n",
       "            X          Y  \n",
       "0 -122.425892  37.774599  \n",
       "1 -122.425892  37.774599  \n",
       "2 -122.424363  37.800414  \n",
       "3 -122.426995  37.800873  \n",
       "4 -122.438738  37.771541  "
      ]
     },
     "execution_count": 5,
     "metadata": {},
     "output_type": "execute_result"
    }
   ],
   "source": [
    "data = pd.read_csv('train.csv')\n",
    "data.head()"
   ]
  },
  {
   "cell_type": "markdown",
   "metadata": {},
   "source": [
    "---"
   ]
  },
  {
   "cell_type": "markdown",
   "metadata": {},
   "source": [
    "#### CONVERT DATES TO DATETIME, EXTRACT A COULMN FOR YEAR, MONTH, DAY, TIME"
   ]
  },
  {
   "cell_type": "code",
   "execution_count": 6,
   "metadata": {
    "collapsed": false
   },
   "outputs": [],
   "source": [
    "data['Dates'] = pd.to_datetime(data['Dates'])"
   ]
  },
  {
   "cell_type": "code",
   "execution_count": 7,
   "metadata": {
    "collapsed": false
   },
   "outputs": [
    {
     "data": {
      "text/plain": [
       "pandas.tslib.Timestamp"
      ]
     },
     "execution_count": 7,
     "metadata": {},
     "output_type": "execute_result"
    }
   ],
   "source": [
    "type(data['Dates'][0])"
   ]
  },
  {
   "cell_type": "code",
   "execution_count": 8,
   "metadata": {
    "collapsed": true
   },
   "outputs": [],
   "source": [
    "data['year'] = data['Dates'].dt.year\n",
    "data['month'] = data['Dates'].dt.month\n",
    "data['time'] = data['Dates'].dt.time"
   ]
  },
  {
   "cell_type": "code",
   "execution_count": 9,
   "metadata": {
    "collapsed": false
   },
   "outputs": [
    {
     "data": {
      "text/html": [
       "<div>\n",
       "<table border=\"1\" class=\"dataframe\">\n",
       "  <thead>\n",
       "    <tr style=\"text-align: right;\">\n",
       "      <th></th>\n",
       "      <th>Dates</th>\n",
       "      <th>Category</th>\n",
       "      <th>Descript</th>\n",
       "      <th>DayOfWeek</th>\n",
       "      <th>PdDistrict</th>\n",
       "      <th>Resolution</th>\n",
       "      <th>Address</th>\n",
       "      <th>X</th>\n",
       "      <th>Y</th>\n",
       "      <th>year</th>\n",
       "      <th>month</th>\n",
       "      <th>time</th>\n",
       "    </tr>\n",
       "  </thead>\n",
       "  <tbody>\n",
       "    <tr>\n",
       "      <th>0</th>\n",
       "      <td>2015-05-13 23:53:00</td>\n",
       "      <td>WARRANTS</td>\n",
       "      <td>WARRANT ARREST</td>\n",
       "      <td>Wednesday</td>\n",
       "      <td>NORTHERN</td>\n",
       "      <td>ARREST, BOOKED</td>\n",
       "      <td>OAK ST / LAGUNA ST</td>\n",
       "      <td>-122.425892</td>\n",
       "      <td>37.774599</td>\n",
       "      <td>2015</td>\n",
       "      <td>5</td>\n",
       "      <td>23:53:00</td>\n",
       "    </tr>\n",
       "    <tr>\n",
       "      <th>1</th>\n",
       "      <td>2015-05-13 23:53:00</td>\n",
       "      <td>OTHER OFFENSES</td>\n",
       "      <td>TRAFFIC VIOLATION ARREST</td>\n",
       "      <td>Wednesday</td>\n",
       "      <td>NORTHERN</td>\n",
       "      <td>ARREST, BOOKED</td>\n",
       "      <td>OAK ST / LAGUNA ST</td>\n",
       "      <td>-122.425892</td>\n",
       "      <td>37.774599</td>\n",
       "      <td>2015</td>\n",
       "      <td>5</td>\n",
       "      <td>23:53:00</td>\n",
       "    </tr>\n",
       "    <tr>\n",
       "      <th>2</th>\n",
       "      <td>2015-05-13 23:33:00</td>\n",
       "      <td>OTHER OFFENSES</td>\n",
       "      <td>TRAFFIC VIOLATION ARREST</td>\n",
       "      <td>Wednesday</td>\n",
       "      <td>NORTHERN</td>\n",
       "      <td>ARREST, BOOKED</td>\n",
       "      <td>VANNESS AV / GREENWICH ST</td>\n",
       "      <td>-122.424363</td>\n",
       "      <td>37.800414</td>\n",
       "      <td>2015</td>\n",
       "      <td>5</td>\n",
       "      <td>23:33:00</td>\n",
       "    </tr>\n",
       "    <tr>\n",
       "      <th>3</th>\n",
       "      <td>2015-05-13 23:30:00</td>\n",
       "      <td>LARCENY/THEFT</td>\n",
       "      <td>GRAND THEFT FROM LOCKED AUTO</td>\n",
       "      <td>Wednesday</td>\n",
       "      <td>NORTHERN</td>\n",
       "      <td>NONE</td>\n",
       "      <td>1500 Block of LOMBARD ST</td>\n",
       "      <td>-122.426995</td>\n",
       "      <td>37.800873</td>\n",
       "      <td>2015</td>\n",
       "      <td>5</td>\n",
       "      <td>23:30:00</td>\n",
       "    </tr>\n",
       "    <tr>\n",
       "      <th>4</th>\n",
       "      <td>2015-05-13 23:30:00</td>\n",
       "      <td>LARCENY/THEFT</td>\n",
       "      <td>GRAND THEFT FROM LOCKED AUTO</td>\n",
       "      <td>Wednesday</td>\n",
       "      <td>PARK</td>\n",
       "      <td>NONE</td>\n",
       "      <td>100 Block of BRODERICK ST</td>\n",
       "      <td>-122.438738</td>\n",
       "      <td>37.771541</td>\n",
       "      <td>2015</td>\n",
       "      <td>5</td>\n",
       "      <td>23:30:00</td>\n",
       "    </tr>\n",
       "  </tbody>\n",
       "</table>\n",
       "</div>"
      ],
      "text/plain": [
       "                Dates        Category                      Descript  \\\n",
       "0 2015-05-13 23:53:00        WARRANTS                WARRANT ARREST   \n",
       "1 2015-05-13 23:53:00  OTHER OFFENSES      TRAFFIC VIOLATION ARREST   \n",
       "2 2015-05-13 23:33:00  OTHER OFFENSES      TRAFFIC VIOLATION ARREST   \n",
       "3 2015-05-13 23:30:00   LARCENY/THEFT  GRAND THEFT FROM LOCKED AUTO   \n",
       "4 2015-05-13 23:30:00   LARCENY/THEFT  GRAND THEFT FROM LOCKED AUTO   \n",
       "\n",
       "   DayOfWeek PdDistrict      Resolution                    Address  \\\n",
       "0  Wednesday   NORTHERN  ARREST, BOOKED         OAK ST / LAGUNA ST   \n",
       "1  Wednesday   NORTHERN  ARREST, BOOKED         OAK ST / LAGUNA ST   \n",
       "2  Wednesday   NORTHERN  ARREST, BOOKED  VANNESS AV / GREENWICH ST   \n",
       "3  Wednesday   NORTHERN            NONE   1500 Block of LOMBARD ST   \n",
       "4  Wednesday       PARK            NONE  100 Block of BRODERICK ST   \n",
       "\n",
       "            X          Y  year  month      time  \n",
       "0 -122.425892  37.774599  2015      5  23:53:00  \n",
       "1 -122.425892  37.774599  2015      5  23:53:00  \n",
       "2 -122.424363  37.800414  2015      5  23:33:00  \n",
       "3 -122.426995  37.800873  2015      5  23:30:00  \n",
       "4 -122.438738  37.771541  2015      5  23:30:00  "
      ]
     },
     "execution_count": 9,
     "metadata": {},
     "output_type": "execute_result"
    }
   ],
   "source": [
    "data.head()"
   ]
  },
  {
   "cell_type": "markdown",
   "metadata": {},
   "source": [
    "---"
   ]
  },
  {
   "cell_type": "markdown",
   "metadata": {},
   "source": [
    "### DOWNSAMPLE FOR PERFORMANCE"
   ]
  },
  {
   "cell_type": "code",
   "execution_count": 14,
   "metadata": {
    "collapsed": false
   },
   "outputs": [],
   "source": [
    "data2 = data.take(np.random.permutation(len(data))[:500])"
   ]
  },
  {
   "cell_type": "code",
   "execution_count": 16,
   "metadata": {
    "collapsed": false
   },
   "outputs": [
    {
     "data": {
      "text/html": [
       "<div>\n",
       "<table border=\"1\" class=\"dataframe\">\n",
       "  <thead>\n",
       "    <tr style=\"text-align: right;\">\n",
       "      <th></th>\n",
       "      <th>Dates</th>\n",
       "      <th>Category</th>\n",
       "      <th>Descript</th>\n",
       "      <th>DayOfWeek</th>\n",
       "      <th>PdDistrict</th>\n",
       "      <th>Resolution</th>\n",
       "      <th>Address</th>\n",
       "      <th>X</th>\n",
       "      <th>Y</th>\n",
       "      <th>year</th>\n",
       "      <th>month</th>\n",
       "      <th>time</th>\n",
       "    </tr>\n",
       "  </thead>\n",
       "  <tbody>\n",
       "    <tr>\n",
       "      <th>477109</th>\n",
       "      <td>2008-08-23 14:00:00</td>\n",
       "      <td>VANDALISM</td>\n",
       "      <td>MALICIOUS MISCHIEF, VANDALISM</td>\n",
       "      <td>Saturday</td>\n",
       "      <td>INGLESIDE</td>\n",
       "      <td>UNFOUNDED</td>\n",
       "      <td>600 Block of PARIS ST</td>\n",
       "      <td>-122.437324</td>\n",
       "      <td>37.718466</td>\n",
       "      <td>2008</td>\n",
       "      <td>8</td>\n",
       "      <td>14:00:00</td>\n",
       "    </tr>\n",
       "    <tr>\n",
       "      <th>481359</th>\n",
       "      <td>2008-08-05 02:00:00</td>\n",
       "      <td>ASSAULT</td>\n",
       "      <td>BATTERY</td>\n",
       "      <td>Tuesday</td>\n",
       "      <td>MISSION</td>\n",
       "      <td>ARREST, BOOKED</td>\n",
       "      <td>0 Block of DIAMOND ST</td>\n",
       "      <td>-122.437174</td>\n",
       "      <td>37.761316</td>\n",
       "      <td>2008</td>\n",
       "      <td>8</td>\n",
       "      <td>02:00:00</td>\n",
       "    </tr>\n",
       "    <tr>\n",
       "      <th>229924</th>\n",
       "      <td>2012-04-17 12:30:00</td>\n",
       "      <td>OTHER OFFENSES</td>\n",
       "      <td>FALSE PERSONATION</td>\n",
       "      <td>Tuesday</td>\n",
       "      <td>TENDERLOIN</td>\n",
       "      <td>NONE</td>\n",
       "      <td>300 Block of ELLIS ST</td>\n",
       "      <td>-122.411966</td>\n",
       "      <td>37.784914</td>\n",
       "      <td>2012</td>\n",
       "      <td>4</td>\n",
       "      <td>12:30:00</td>\n",
       "    </tr>\n",
       "    <tr>\n",
       "      <th>242412</th>\n",
       "      <td>2012-02-09 14:00:00</td>\n",
       "      <td>NON-CRIMINAL</td>\n",
       "      <td>FOUND PROPERTY</td>\n",
       "      <td>Thursday</td>\n",
       "      <td>SOUTHERN</td>\n",
       "      <td>NONE</td>\n",
       "      <td>700 Block of HOWARD ST</td>\n",
       "      <td>-122.401561</td>\n",
       "      <td>37.784089</td>\n",
       "      <td>2012</td>\n",
       "      <td>2</td>\n",
       "      <td>14:00:00</td>\n",
       "    </tr>\n",
       "    <tr>\n",
       "      <th>336889</th>\n",
       "      <td>2010-09-11 21:11:00</td>\n",
       "      <td>OTHER OFFENSES</td>\n",
       "      <td>VIOLATION OF MUNICIPAL CODE</td>\n",
       "      <td>Saturday</td>\n",
       "      <td>CENTRAL</td>\n",
       "      <td>ARREST, CITED</td>\n",
       "      <td>THE EMBARCADERONORTH ST / BROADWAY ST</td>\n",
       "      <td>-122.397392</td>\n",
       "      <td>37.799066</td>\n",
       "      <td>2010</td>\n",
       "      <td>9</td>\n",
       "      <td>21:11:00</td>\n",
       "    </tr>\n",
       "  </tbody>\n",
       "</table>\n",
       "</div>"
      ],
      "text/plain": [
       "                     Dates        Category                       Descript  \\\n",
       "477109 2008-08-23 14:00:00       VANDALISM  MALICIOUS MISCHIEF, VANDALISM   \n",
       "481359 2008-08-05 02:00:00         ASSAULT                        BATTERY   \n",
       "229924 2012-04-17 12:30:00  OTHER OFFENSES              FALSE PERSONATION   \n",
       "242412 2012-02-09 14:00:00    NON-CRIMINAL                 FOUND PROPERTY   \n",
       "336889 2010-09-11 21:11:00  OTHER OFFENSES    VIOLATION OF MUNICIPAL CODE   \n",
       "\n",
       "       DayOfWeek  PdDistrict      Resolution  \\\n",
       "477109  Saturday   INGLESIDE       UNFOUNDED   \n",
       "481359   Tuesday     MISSION  ARREST, BOOKED   \n",
       "229924   Tuesday  TENDERLOIN            NONE   \n",
       "242412  Thursday    SOUTHERN            NONE   \n",
       "336889  Saturday     CENTRAL   ARREST, CITED   \n",
       "\n",
       "                                      Address           X          Y  year  \\\n",
       "477109                  600 Block of PARIS ST -122.437324  37.718466  2008   \n",
       "481359                  0 Block of DIAMOND ST -122.437174  37.761316  2008   \n",
       "229924                  300 Block of ELLIS ST -122.411966  37.784914  2012   \n",
       "242412                 700 Block of HOWARD ST -122.401561  37.784089  2012   \n",
       "336889  THE EMBARCADERONORTH ST / BROADWAY ST -122.397392  37.799066  2010   \n",
       "\n",
       "        month      time  \n",
       "477109      8  14:00:00  \n",
       "481359      8  02:00:00  \n",
       "229924      4  12:30:00  \n",
       "242412      2  14:00:00  \n",
       "336889      9  21:11:00  "
      ]
     },
     "execution_count": 16,
     "metadata": {},
     "output_type": "execute_result"
    }
   ],
   "source": [
    "data2.head()"
   ]
  },
  {
   "cell_type": "markdown",
   "metadata": {},
   "source": [
    "---"
   ]
  },
  {
   "cell_type": "markdown",
   "metadata": {},
   "source": [
    "## EXPLORING THE DOWNSAMPLED DATA"
   ]
  },
  {
   "cell_type": "markdown",
   "metadata": {},
   "source": [
    "#### CATEGORY TOTALS:"
   ]
  },
  {
   "cell_type": "code",
   "execution_count": 53,
   "metadata": {
    "collapsed": false
   },
   "outputs": [
    {
     "data": {
      "text/plain": [
       "{'ARSON': 0,\n",
       " 'ASSAULT': 0,\n",
       " 'BRIBERY': 0,\n",
       " 'BURGLARY': 0,\n",
       " 'DISORDERLY CONDUCT': 0,\n",
       " 'DRIVING UNDER THE INFLUENCE': 0,\n",
       " 'DRUG/NARCOTIC': 0,\n",
       " 'DRUNKENNESS': 0,\n",
       " 'EXTORTION': 0,\n",
       " 'FAMILY OFFENSES': 0,\n",
       " 'FORGERY/COUNTERFEITING': 0,\n",
       " 'FRAUD': 0,\n",
       " 'KIDNAPPING': 0,\n",
       " 'LARCENY/THEFT': 0,\n",
       " 'LOITERING': 0,\n",
       " 'MISSING PERSON': 0,\n",
       " 'NON-CRIMINAL': 0,\n",
       " 'OTHER OFFENSES': 0,\n",
       " 'PROSTITUTION': 0,\n",
       " 'ROBBERY': 0,\n",
       " 'RUNAWAY': 0,\n",
       " 'SECONDARY CODES': 0,\n",
       " 'SEX OFFENSES FORCIBLE': 0,\n",
       " 'STOLEN PROPERTY': 0,\n",
       " 'SUSPICIOUS OCC': 0,\n",
       " 'TRESPASS': 0,\n",
       " 'VANDALISM': 0,\n",
       " 'VEHICLE THEFT': 0,\n",
       " 'WARRANTS': 0,\n",
       " 'WEAPON LAWS': 0}"
      ]
     },
     "execution_count": 53,
     "metadata": {},
     "output_type": "execute_result"
    }
   ],
   "source": [
    "categories = {x:0 for x in set(data2['Category'])}\n",
    "categories"
   ]
  },
  {
   "cell_type": "code",
   "execution_count": 151,
   "metadata": {
    "collapsed": false
   },
   "outputs": [
    {
     "data": {
      "text/plain": [
       "{'ARSON': 1,\n",
       " 'ASSAULT': 41,\n",
       " 'BRIBERY': 1,\n",
       " 'BURGLARY': 12,\n",
       " 'DISORDERLY CONDUCT': 5,\n",
       " 'DRIVING UNDER THE INFLUENCE': 1,\n",
       " 'DRUG/NARCOTIC': 22,\n",
       " 'DRUNKENNESS': 1,\n",
       " 'EXTORTION': 1,\n",
       " 'FAMILY OFFENSES': 2,\n",
       " 'FORGERY/COUNTERFEITING': 5,\n",
       " 'FRAUD': 9,\n",
       " 'KIDNAPPING': 4,\n",
       " 'LARCENY/THEFT': 105,\n",
       " 'LOITERING': 1,\n",
       " 'MISSING PERSON': 13,\n",
       " 'NON-CRIMINAL': 59,\n",
       " 'OTHER OFFENSES': 76,\n",
       " 'PROSTITUTION': 2,\n",
       " 'ROBBERY': 12,\n",
       " 'RUNAWAY': 3,\n",
       " 'SECONDARY CODES': 6,\n",
       " 'SEX OFFENSES FORCIBLE': 1,\n",
       " 'STOLEN PROPERTY': 2,\n",
       " 'SUSPICIOUS OCC': 20,\n",
       " 'TRESPASS': 4,\n",
       " 'VANDALISM': 27,\n",
       " 'VEHICLE THEFT': 34,\n",
       " 'WARRANTS': 25,\n",
       " 'WEAPON LAWS': 5}"
      ]
     },
     "execution_count": 151,
     "metadata": {},
     "output_type": "execute_result"
    }
   ],
   "source": [
    "for x in categories:\n",
    "    counter = 0\n",
    "    for y in data2['Category']:\n",
    "        if x == y: \n",
    "            counter += 1\n",
    "    categories[x]=counter\n",
    "categories"
   ]
  },
  {
   "cell_type": "code",
   "execution_count": 152,
   "metadata": {
    "collapsed": false
   },
   "outputs": [
    {
     "data": {
      "text/plain": [
       "[('LARCENY/THEFT', 105),\n",
       " ('OTHER OFFENSES', 76),\n",
       " ('NON-CRIMINAL', 59),\n",
       " ('ASSAULT', 41),\n",
       " ('VEHICLE THEFT', 34),\n",
       " ('VANDALISM', 27),\n",
       " ('WARRANTS', 25),\n",
       " ('DRUG/NARCOTIC', 22),\n",
       " ('SUSPICIOUS OCC', 20),\n",
       " ('MISSING PERSON', 13),\n",
       " ('ROBBERY', 12),\n",
       " ('BURGLARY', 12),\n",
       " ('FRAUD', 9),\n",
       " ('SECONDARY CODES', 6),\n",
       " ('WEAPON LAWS', 5),\n",
       " ('FORGERY/COUNTERFEITING', 5),\n",
       " ('DISORDERLY CONDUCT', 5),\n",
       " ('KIDNAPPING', 4),\n",
       " ('TRESPASS', 4),\n",
       " ('RUNAWAY', 3),\n",
       " ('FAMILY OFFENSES', 2),\n",
       " ('PROSTITUTION', 2),\n",
       " ('STOLEN PROPERTY', 2),\n",
       " ('LOITERING', 1),\n",
       " ('DRIVING UNDER THE INFLUENCE', 1),\n",
       " ('ARSON', 1),\n",
       " ('DRUNKENNESS', 1),\n",
       " ('EXTORTION', 1),\n",
       " ('SEX OFFENSES FORCIBLE', 1),\n",
       " ('BRIBERY', 1)]"
      ]
     },
     "execution_count": 152,
     "metadata": {},
     "output_type": "execute_result"
    }
   ],
   "source": [
    "sorted_categories = sorted(categories.items(), key=lambda x: x[1],reverse=True)\n",
    "sorted_categories"
   ]
  },
  {
   "cell_type": "code",
   "execution_count": 210,
   "metadata": {
    "collapsed": false
   },
   "outputs": [
    {
     "data": {
      "text/plain": [
       "30"
      ]
     },
     "execution_count": 210,
     "metadata": {},
     "output_type": "execute_result"
    }
   ],
   "source": [
    "values = [x[1] for x in sorted_categories]\n",
    "len(values)"
   ]
  },
  {
   "cell_type": "code",
   "execution_count": 254,
   "metadata": {
    "collapsed": false
   },
   "outputs": [
    {
     "data": {
      "image/png": "[encoded data removed]",
      "text/plain": [
       "<matplotlib.figure.Figure at 0x10774a190>"
      ]
     },
     "metadata": {},
     "output_type": "display_data"
    }
   ],
   "source": [
    "xlabels = [x[0] for x in sorted_categories]\n",
    "x = range(len(values))\n",
    "y = values\n",
    "plt.figure(figsize=(10,10))\n",
    "plt.xlim(-1,len(values))\n",
    "plt.bar(x,y,width=1,align='center')\n",
    "plt.xticks(x,xlabels,rotation='vertical')\n",
    "plt.show()"
   ]
  },
  {
   "cell_type": "markdown",
   "metadata": {},
   "source": [
    "---"
   ]
  },
  {
   "cell_type": "markdown",
   "metadata": {},
   "source": [
    "#### CATEGORY BY DAY OF WEEK:"
   ]
  },
  {
   "cell_type": "code",
   "execution_count": 56,
   "metadata": {
    "collapsed": false
   },
   "outputs": [
    {
     "data": {
      "text/plain": [
       "['Monday', 'Tuesday', 'Wednesday', 'Thursday', 'Friday', 'Saturday', 'Sunday']"
      ]
     },
     "execution_count": 56,
     "metadata": {},
     "output_type": "execute_result"
    }
   ],
   "source": [
    "days_of_week = ['Monday','Tuesday','Wednesday','Thursday','Friday','Saturday','Sunday']\n",
    "days_of_week"
   ]
  },
  {
   "cell_type": "code",
   "execution_count": 57,
   "metadata": {
    "collapsed": false
   },
   "outputs": [
    {
     "data": {
      "text/plain": [
       "{'ARSON',\n",
       " 'ASSAULT',\n",
       " 'BRIBERY',\n",
       " 'BURGLARY',\n",
       " 'DISORDERLY CONDUCT',\n",
       " 'DRIVING UNDER THE INFLUENCE',\n",
       " 'DRUG/NARCOTIC',\n",
       " 'DRUNKENNESS',\n",
       " 'EXTORTION',\n",
       " 'FAMILY OFFENSES',\n",
       " 'FORGERY/COUNTERFEITING',\n",
       " 'FRAUD',\n",
       " 'KIDNAPPING',\n",
       " 'LARCENY/THEFT',\n",
       " 'LOITERING',\n",
       " 'MISSING PERSON',\n",
       " 'NON-CRIMINAL',\n",
       " 'OTHER OFFENSES',\n",
       " 'PROSTITUTION',\n",
       " 'ROBBERY',\n",
       " 'RUNAWAY',\n",
       " 'SECONDARY CODES',\n",
       " 'SEX OFFENSES FORCIBLE',\n",
       " 'STOLEN PROPERTY',\n",
       " 'SUSPICIOUS OCC',\n",
       " 'TRESPASS',\n",
       " 'VANDALISM',\n",
       " 'VEHICLE THEFT',\n",
       " 'WARRANTS',\n",
       " 'WEAPON LAWS'}"
      ]
     },
     "execution_count": 57,
     "metadata": {},
     "output_type": "execute_result"
    }
   ],
   "source": [
    "crime_type = set(data2['Category'])\n",
    "crime_type"
   ]
  },
  {
   "cell_type": "code",
   "execution_count": 90,
   "metadata": {
    "collapsed": false
   },
   "outputs": [
    {
     "data": {
      "text/html": [
       "<div>\n",
       "<table border=\"1\" class=\"dataframe\">\n",
       "  <thead>\n",
       "    <tr style=\"text-align: right;\">\n",
       "      <th></th>\n",
       "      <th>Monday</th>\n",
       "      <th>Tuesday</th>\n",
       "      <th>Wednesday</th>\n",
       "      <th>Thursday</th>\n",
       "      <th>Friday</th>\n",
       "      <th>Saturday</th>\n",
       "      <th>Sunday</th>\n",
       "    </tr>\n",
       "  </thead>\n",
       "  <tbody>\n",
       "    <tr>\n",
       "      <th>KIDNAPPING</th>\n",
       "      <td>NaN</td>\n",
       "      <td>NaN</td>\n",
       "      <td>NaN</td>\n",
       "      <td>NaN</td>\n",
       "      <td>NaN</td>\n",
       "      <td>NaN</td>\n",
       "      <td>NaN</td>\n",
       "    </tr>\n",
       "    <tr>\n",
       "      <th>WEAPON LAWS</th>\n",
       "      <td>NaN</td>\n",
       "      <td>NaN</td>\n",
       "      <td>NaN</td>\n",
       "      <td>NaN</td>\n",
       "      <td>NaN</td>\n",
       "      <td>NaN</td>\n",
       "      <td>NaN</td>\n",
       "    </tr>\n",
       "    <tr>\n",
       "      <th>SECONDARY CODES</th>\n",
       "      <td>NaN</td>\n",
       "      <td>NaN</td>\n",
       "      <td>NaN</td>\n",
       "      <td>NaN</td>\n",
       "      <td>NaN</td>\n",
       "      <td>NaN</td>\n",
       "      <td>NaN</td>\n",
       "    </tr>\n",
       "    <tr>\n",
       "      <th>WARRANTS</th>\n",
       "      <td>NaN</td>\n",
       "      <td>NaN</td>\n",
       "      <td>NaN</td>\n",
       "      <td>NaN</td>\n",
       "      <td>NaN</td>\n",
       "      <td>NaN</td>\n",
       "      <td>NaN</td>\n",
       "    </tr>\n",
       "    <tr>\n",
       "      <th>PROSTITUTION</th>\n",
       "      <td>NaN</td>\n",
       "      <td>NaN</td>\n",
       "      <td>NaN</td>\n",
       "      <td>NaN</td>\n",
       "      <td>NaN</td>\n",
       "      <td>NaN</td>\n",
       "      <td>NaN</td>\n",
       "    </tr>\n",
       "  </tbody>\n",
       "</table>\n",
       "</div>"
      ],
      "text/plain": [
       "                Monday Tuesday Wednesday Thursday Friday Saturday Sunday\n",
       "KIDNAPPING         NaN     NaN       NaN      NaN    NaN      NaN    NaN\n",
       "WEAPON LAWS        NaN     NaN       NaN      NaN    NaN      NaN    NaN\n",
       "SECONDARY CODES    NaN     NaN       NaN      NaN    NaN      NaN    NaN\n",
       "WARRANTS           NaN     NaN       NaN      NaN    NaN      NaN    NaN\n",
       "PROSTITUTION       NaN     NaN       NaN      NaN    NaN      NaN    NaN"
      ]
     },
     "execution_count": 90,
     "metadata": {},
     "output_type": "execute_result"
    }
   ],
   "source": [
    "crime_by_day = pd.DataFrame(columns = days_of_week,index=crime_type)\n",
    "crime_by_day.head()"
   ]
  },
  {
   "cell_type": "code",
   "execution_count": 91,
   "metadata": {
    "collapsed": false
   },
   "outputs": [
    {
     "data": {
      "text/plain": [
       "nan"
      ]
     },
     "execution_count": 91,
     "metadata": {},
     "output_type": "execute_result"
    }
   ],
   "source": [
    "crime_by_day.loc['KIDNAPPING','Monday']"
   ]
  },
  {
   "cell_type": "code",
   "execution_count": 147,
   "metadata": {
    "collapsed": false
   },
   "outputs": [
    {
     "data": {
      "text/html": [
       "<div>\n",
       "<table border=\"1\" class=\"dataframe\">\n",
       "  <thead>\n",
       "    <tr style=\"text-align: right;\">\n",
       "      <th></th>\n",
       "      <th>Monday</th>\n",
       "      <th>Tuesday</th>\n",
       "      <th>Wednesday</th>\n",
       "      <th>Thursday</th>\n",
       "      <th>Friday</th>\n",
       "      <th>Saturday</th>\n",
       "      <th>Sunday</th>\n",
       "    </tr>\n",
       "  </thead>\n",
       "  <tbody>\n",
       "    <tr>\n",
       "      <th>KIDNAPPING</th>\n",
       "      <td>0</td>\n",
       "      <td>0</td>\n",
       "      <td>1</td>\n",
       "      <td>0</td>\n",
       "      <td>1</td>\n",
       "      <td>2</td>\n",
       "      <td>0</td>\n",
       "    </tr>\n",
       "    <tr>\n",
       "      <th>WEAPON LAWS</th>\n",
       "      <td>1</td>\n",
       "      <td>1</td>\n",
       "      <td>0</td>\n",
       "      <td>0</td>\n",
       "      <td>0</td>\n",
       "      <td>3</td>\n",
       "      <td>0</td>\n",
       "    </tr>\n",
       "    <tr>\n",
       "      <th>SECONDARY CODES</th>\n",
       "      <td>0</td>\n",
       "      <td>0</td>\n",
       "      <td>2</td>\n",
       "      <td>1</td>\n",
       "      <td>0</td>\n",
       "      <td>3</td>\n",
       "      <td>0</td>\n",
       "    </tr>\n",
       "    <tr>\n",
       "      <th>WARRANTS</th>\n",
       "      <td>3</td>\n",
       "      <td>5</td>\n",
       "      <td>3</td>\n",
       "      <td>5</td>\n",
       "      <td>4</td>\n",
       "      <td>2</td>\n",
       "      <td>3</td>\n",
       "    </tr>\n",
       "    <tr>\n",
       "      <th>PROSTITUTION</th>\n",
       "      <td>0</td>\n",
       "      <td>0</td>\n",
       "      <td>0</td>\n",
       "      <td>1</td>\n",
       "      <td>0</td>\n",
       "      <td>0</td>\n",
       "      <td>1</td>\n",
       "    </tr>\n",
       "    <tr>\n",
       "      <th>LOITERING</th>\n",
       "      <td>1</td>\n",
       "      <td>0</td>\n",
       "      <td>0</td>\n",
       "      <td>0</td>\n",
       "      <td>0</td>\n",
       "      <td>0</td>\n",
       "      <td>0</td>\n",
       "    </tr>\n",
       "    <tr>\n",
       "      <th>DRIVING UNDER THE INFLUENCE</th>\n",
       "      <td>1</td>\n",
       "      <td>0</td>\n",
       "      <td>0</td>\n",
       "      <td>0</td>\n",
       "      <td>0</td>\n",
       "      <td>0</td>\n",
       "      <td>0</td>\n",
       "    </tr>\n",
       "    <tr>\n",
       "      <th>SEX OFFENSES FORCIBLE</th>\n",
       "      <td>0</td>\n",
       "      <td>0</td>\n",
       "      <td>0</td>\n",
       "      <td>0</td>\n",
       "      <td>0</td>\n",
       "      <td>0</td>\n",
       "      <td>1</td>\n",
       "    </tr>\n",
       "    <tr>\n",
       "      <th>ROBBERY</th>\n",
       "      <td>3</td>\n",
       "      <td>1</td>\n",
       "      <td>2</td>\n",
       "      <td>0</td>\n",
       "      <td>4</td>\n",
       "      <td>1</td>\n",
       "      <td>1</td>\n",
       "    </tr>\n",
       "    <tr>\n",
       "      <th>BURGLARY</th>\n",
       "      <td>2</td>\n",
       "      <td>1</td>\n",
       "      <td>3</td>\n",
       "      <td>2</td>\n",
       "      <td>2</td>\n",
       "      <td>2</td>\n",
       "      <td>0</td>\n",
       "    </tr>\n",
       "    <tr>\n",
       "      <th>STOLEN PROPERTY</th>\n",
       "      <td>1</td>\n",
       "      <td>1</td>\n",
       "      <td>0</td>\n",
       "      <td>0</td>\n",
       "      <td>0</td>\n",
       "      <td>0</td>\n",
       "      <td>0</td>\n",
       "    </tr>\n",
       "    <tr>\n",
       "      <th>SUSPICIOUS OCC</th>\n",
       "      <td>3</td>\n",
       "      <td>2</td>\n",
       "      <td>3</td>\n",
       "      <td>4</td>\n",
       "      <td>4</td>\n",
       "      <td>2</td>\n",
       "      <td>2</td>\n",
       "    </tr>\n",
       "    <tr>\n",
       "      <th>ARSON</th>\n",
       "      <td>0</td>\n",
       "      <td>0</td>\n",
       "      <td>0</td>\n",
       "      <td>0</td>\n",
       "      <td>0</td>\n",
       "      <td>0</td>\n",
       "      <td>1</td>\n",
       "    </tr>\n",
       "    <tr>\n",
       "      <th>BRIBERY</th>\n",
       "      <td>0</td>\n",
       "      <td>1</td>\n",
       "      <td>0</td>\n",
       "      <td>0</td>\n",
       "      <td>0</td>\n",
       "      <td>0</td>\n",
       "      <td>0</td>\n",
       "    </tr>\n",
       "    <tr>\n",
       "      <th>FORGERY/COUNTERFEITING</th>\n",
       "      <td>1</td>\n",
       "      <td>1</td>\n",
       "      <td>1</td>\n",
       "      <td>1</td>\n",
       "      <td>0</td>\n",
       "      <td>0</td>\n",
       "      <td>1</td>\n",
       "    </tr>\n",
       "    <tr>\n",
       "      <th>DRUNKENNESS</th>\n",
       "      <td>0</td>\n",
       "      <td>0</td>\n",
       "      <td>0</td>\n",
       "      <td>0</td>\n",
       "      <td>0</td>\n",
       "      <td>0</td>\n",
       "      <td>1</td>\n",
       "    </tr>\n",
       "    <tr>\n",
       "      <th>EXTORTION</th>\n",
       "      <td>1</td>\n",
       "      <td>0</td>\n",
       "      <td>0</td>\n",
       "      <td>0</td>\n",
       "      <td>0</td>\n",
       "      <td>0</td>\n",
       "      <td>0</td>\n",
       "    </tr>\n",
       "    <tr>\n",
       "      <th>FRAUD</th>\n",
       "      <td>0</td>\n",
       "      <td>3</td>\n",
       "      <td>2</td>\n",
       "      <td>1</td>\n",
       "      <td>1</td>\n",
       "      <td>1</td>\n",
       "      <td>1</td>\n",
       "    </tr>\n",
       "    <tr>\n",
       "      <th>FAMILY OFFENSES</th>\n",
       "      <td>1</td>\n",
       "      <td>0</td>\n",
       "      <td>1</td>\n",
       "      <td>0</td>\n",
       "      <td>0</td>\n",
       "      <td>0</td>\n",
       "      <td>0</td>\n",
       "    </tr>\n",
       "    <tr>\n",
       "      <th>DRUG/NARCOTIC</th>\n",
       "      <td>3</td>\n",
       "      <td>1</td>\n",
       "      <td>2</td>\n",
       "      <td>7</td>\n",
       "      <td>1</td>\n",
       "      <td>1</td>\n",
       "      <td>7</td>\n",
       "    </tr>\n",
       "    <tr>\n",
       "      <th>TRESPASS</th>\n",
       "      <td>0</td>\n",
       "      <td>1</td>\n",
       "      <td>1</td>\n",
       "      <td>0</td>\n",
       "      <td>0</td>\n",
       "      <td>1</td>\n",
       "      <td>1</td>\n",
       "    </tr>\n",
       "    <tr>\n",
       "      <th>LARCENY/THEFT</th>\n",
       "      <td>8</td>\n",
       "      <td>20</td>\n",
       "      <td>16</td>\n",
       "      <td>15</td>\n",
       "      <td>17</td>\n",
       "      <td>14</td>\n",
       "      <td>15</td>\n",
       "    </tr>\n",
       "    <tr>\n",
       "      <th>VANDALISM</th>\n",
       "      <td>2</td>\n",
       "      <td>3</td>\n",
       "      <td>3</td>\n",
       "      <td>10</td>\n",
       "      <td>4</td>\n",
       "      <td>2</td>\n",
       "      <td>3</td>\n",
       "    </tr>\n",
       "    <tr>\n",
       "      <th>NON-CRIMINAL</th>\n",
       "      <td>10</td>\n",
       "      <td>4</td>\n",
       "      <td>7</td>\n",
       "      <td>10</td>\n",
       "      <td>9</td>\n",
       "      <td>9</td>\n",
       "      <td>10</td>\n",
       "    </tr>\n",
       "    <tr>\n",
       "      <th>VEHICLE THEFT</th>\n",
       "      <td>4</td>\n",
       "      <td>5</td>\n",
       "      <td>8</td>\n",
       "      <td>5</td>\n",
       "      <td>3</td>\n",
       "      <td>3</td>\n",
       "      <td>6</td>\n",
       "    </tr>\n",
       "    <tr>\n",
       "      <th>OTHER OFFENSES</th>\n",
       "      <td>7</td>\n",
       "      <td>14</td>\n",
       "      <td>11</td>\n",
       "      <td>8</td>\n",
       "      <td>8</td>\n",
       "      <td>16</td>\n",
       "      <td>12</td>\n",
       "    </tr>\n",
       "    <tr>\n",
       "      <th>ASSAULT</th>\n",
       "      <td>6</td>\n",
       "      <td>4</td>\n",
       "      <td>9</td>\n",
       "      <td>7</td>\n",
       "      <td>7</td>\n",
       "      <td>5</td>\n",
       "      <td>3</td>\n",
       "    </tr>\n",
       "    <tr>\n",
       "      <th>MISSING PERSON</th>\n",
       "      <td>4</td>\n",
       "      <td>1</td>\n",
       "      <td>2</td>\n",
       "      <td>0</td>\n",
       "      <td>2</td>\n",
       "      <td>3</td>\n",
       "      <td>1</td>\n",
       "    </tr>\n",
       "    <tr>\n",
       "      <th>DISORDERLY CONDUCT</th>\n",
       "      <td>2</td>\n",
       "      <td>0</td>\n",
       "      <td>0</td>\n",
       "      <td>1</td>\n",
       "      <td>1</td>\n",
       "      <td>1</td>\n",
       "      <td>0</td>\n",
       "    </tr>\n",
       "    <tr>\n",
       "      <th>RUNAWAY</th>\n",
       "      <td>1</td>\n",
       "      <td>2</td>\n",
       "      <td>0</td>\n",
       "      <td>0</td>\n",
       "      <td>0</td>\n",
       "      <td>0</td>\n",
       "      <td>0</td>\n",
       "    </tr>\n",
       "  </tbody>\n",
       "</table>\n",
       "</div>"
      ],
      "text/plain": [
       "                            Monday Tuesday Wednesday Thursday Friday Saturday  \\\n",
       "KIDNAPPING                       0       0         1        0      1        2   \n",
       "WEAPON LAWS                      1       1         0        0      0        3   \n",
       "SECONDARY CODES                  0       0         2        1      0        3   \n",
       "WARRANTS                         3       5         3        5      4        2   \n",
       "PROSTITUTION                     0       0         0        1      0        0   \n",
       "LOITERING                        1       0         0        0      0        0   \n",
       "DRIVING UNDER THE INFLUENCE      1       0         0        0      0        0   \n",
       "SEX OFFENSES FORCIBLE            0       0         0        0      0        0   \n",
       "ROBBERY                          3       1         2        0      4        1   \n",
       "BURGLARY                         2       1         3        2      2        2   \n",
       "STOLEN PROPERTY                  1       1         0        0      0        0   \n",
       "SUSPICIOUS OCC                   3       2         3        4      4        2   \n",
       "ARSON                            0       0         0        0      0        0   \n",
       "BRIBERY                          0       1         0        0      0        0   \n",
       "FORGERY/COUNTERFEITING           1       1         1        1      0        0   \n",
       "DRUNKENNESS                      0       0         0        0      0        0   \n",
       "EXTORTION                        1       0         0        0      0        0   \n",
       "FRAUD                            0       3         2        1      1        1   \n",
       "FAMILY OFFENSES                  1       0         1        0      0        0   \n",
       "DRUG/NARCOTIC                    3       1         2        7      1        1   \n",
       "TRESPASS                         0       1         1        0      0        1   \n",
       "LARCENY/THEFT                    8      20        16       15     17       14   \n",
       "VANDALISM                        2       3         3       10      4        2   \n",
       "NON-CRIMINAL                    10       4         7       10      9        9   \n",
       "VEHICLE THEFT                    4       5         8        5      3        3   \n",
       "OTHER OFFENSES                   7      14        11        8      8       16   \n",
       "ASSAULT                          6       4         9        7      7        5   \n",
       "MISSING PERSON                   4       1         2        0      2        3   \n",
       "DISORDERLY CONDUCT               2       0         0        1      1        1   \n",
       "RUNAWAY                          1       2         0        0      0        0   \n",
       "\n",
       "                            Sunday  \n",
       "KIDNAPPING                       0  \n",
       "WEAPON LAWS                      0  \n",
       "SECONDARY CODES                  0  \n",
       "WARRANTS                         3  \n",
       "PROSTITUTION                     1  \n",
       "LOITERING                        0  \n",
       "DRIVING UNDER THE INFLUENCE      0  \n",
       "SEX OFFENSES FORCIBLE            1  \n",
       "ROBBERY                          1  \n",
       "BURGLARY                         0  \n",
       "STOLEN PROPERTY                  0  \n",
       "SUSPICIOUS OCC                   2  \n",
       "ARSON                            1  \n",
       "BRIBERY                          0  \n",
       "FORGERY/COUNTERFEITING           1  \n",
       "DRUNKENNESS                      1  \n",
       "EXTORTION                        0  \n",
       "FRAUD                            1  \n",
       "FAMILY OFFENSES                  0  \n",
       "DRUG/NARCOTIC                    7  \n",
       "TRESPASS                         1  \n",
       "LARCENY/THEFT                   15  \n",
       "VANDALISM                        3  \n",
       "NON-CRIMINAL                    10  \n",
       "VEHICLE THEFT                    6  \n",
       "OTHER OFFENSES                  12  \n",
       "ASSAULT                          3  \n",
       "MISSING PERSON                   1  \n",
       "DISORDERLY CONDUCT               0  \n",
       "RUNAWAY                          0  "
      ]
     },
     "execution_count": 147,
     "metadata": {},
     "output_type": "execute_result"
    }
   ],
   "source": [
    "for x in crime_by_day.index:\n",
    "        for y in crime_by_day.columns:\n",
    "                crime_by_day.loc[x,y] = len(data2[data2.Category == x][data2.DayOfWeek == y])\n",
    "crime_by_day"
   ]
  },
  {
   "cell_type": "markdown",
   "metadata": {},
   "source": [
    "---"
   ]
  },
  {
   "cell_type": "markdown",
   "metadata": {},
   "source": [
    "### TOTAL CRIMES BY DAY"
   ]
  },
  {
   "cell_type": "code",
   "execution_count": 277,
   "metadata": {
    "collapsed": false,
    "scrolled": true
   },
   "outputs": [
    {
     "data": {
      "text/html": [
       "<div>\n",
       "<table border=\"1\" class=\"dataframe\">\n",
       "  <thead>\n",
       "    <tr style=\"text-align: right;\">\n",
       "      <th></th>\n",
       "      <th>Dates</th>\n",
       "      <th>Category</th>\n",
       "      <th>Descript</th>\n",
       "      <th>DayOfWeek</th>\n",
       "      <th>PdDistrict</th>\n",
       "      <th>Resolution</th>\n",
       "      <th>Address</th>\n",
       "      <th>X</th>\n",
       "      <th>Y</th>\n",
       "      <th>year</th>\n",
       "      <th>month</th>\n",
       "      <th>time</th>\n",
       "    </tr>\n",
       "  </thead>\n",
       "  <tbody>\n",
       "    <tr>\n",
       "      <th>477109</th>\n",
       "      <td>2008-08-23 14:00:00</td>\n",
       "      <td>VANDALISM</td>\n",
       "      <td>MALICIOUS MISCHIEF, VANDALISM</td>\n",
       "      <td>Saturday</td>\n",
       "      <td>INGLESIDE</td>\n",
       "      <td>UNFOUNDED</td>\n",
       "      <td>600 Block of PARIS ST</td>\n",
       "      <td>-122.437324</td>\n",
       "      <td>37.718466</td>\n",
       "      <td>2008</td>\n",
       "      <td>8</td>\n",
       "      <td>14:00:00</td>\n",
       "    </tr>\n",
       "    <tr>\n",
       "      <th>481359</th>\n",
       "      <td>2008-08-05 02:00:00</td>\n",
       "      <td>ASSAULT</td>\n",
       "      <td>BATTERY</td>\n",
       "      <td>Tuesday</td>\n",
       "      <td>MISSION</td>\n",
       "      <td>ARREST, BOOKED</td>\n",
       "      <td>0 Block of DIAMOND ST</td>\n",
       "      <td>-122.437174</td>\n",
       "      <td>37.761316</td>\n",
       "      <td>2008</td>\n",
       "      <td>8</td>\n",
       "      <td>02:00:00</td>\n",
       "    </tr>\n",
       "    <tr>\n",
       "      <th>229924</th>\n",
       "      <td>2012-04-17 12:30:00</td>\n",
       "      <td>OTHER OFFENSES</td>\n",
       "      <td>FALSE PERSONATION</td>\n",
       "      <td>Tuesday</td>\n",
       "      <td>TENDERLOIN</td>\n",
       "      <td>NONE</td>\n",
       "      <td>300 Block of ELLIS ST</td>\n",
       "      <td>-122.411966</td>\n",
       "      <td>37.784914</td>\n",
       "      <td>2012</td>\n",
       "      <td>4</td>\n",
       "      <td>12:30:00</td>\n",
       "    </tr>\n",
       "    <tr>\n",
       "      <th>242412</th>\n",
       "      <td>2012-02-09 14:00:00</td>\n",
       "      <td>NON-CRIMINAL</td>\n",
       "      <td>FOUND PROPERTY</td>\n",
       "      <td>Thursday</td>\n",
       "      <td>SOUTHERN</td>\n",
       "      <td>NONE</td>\n",
       "      <td>700 Block of HOWARD ST</td>\n",
       "      <td>-122.401561</td>\n",
       "      <td>37.784089</td>\n",
       "      <td>2012</td>\n",
       "      <td>2</td>\n",
       "      <td>14:00:00</td>\n",
       "    </tr>\n",
       "    <tr>\n",
       "      <th>336889</th>\n",
       "      <td>2010-09-11 21:11:00</td>\n",
       "      <td>OTHER OFFENSES</td>\n",
       "      <td>VIOLATION OF MUNICIPAL CODE</td>\n",
       "      <td>Saturday</td>\n",
       "      <td>CENTRAL</td>\n",
       "      <td>ARREST, CITED</td>\n",
       "      <td>THE EMBARCADERONORTH ST / BROADWAY ST</td>\n",
       "      <td>-122.397392</td>\n",
       "      <td>37.799066</td>\n",
       "      <td>2010</td>\n",
       "      <td>9</td>\n",
       "      <td>21:11:00</td>\n",
       "    </tr>\n",
       "  </tbody>\n",
       "</table>\n",
       "</div>"
      ],
      "text/plain": [
       "                     Dates        Category                       Descript  \\\n",
       "477109 2008-08-23 14:00:00       VANDALISM  MALICIOUS MISCHIEF, VANDALISM   \n",
       "481359 2008-08-05 02:00:00         ASSAULT                        BATTERY   \n",
       "229924 2012-04-17 12:30:00  OTHER OFFENSES              FALSE PERSONATION   \n",
       "242412 2012-02-09 14:00:00    NON-CRIMINAL                 FOUND PROPERTY   \n",
       "336889 2010-09-11 21:11:00  OTHER OFFENSES    VIOLATION OF MUNICIPAL CODE   \n",
       "\n",
       "       DayOfWeek  PdDistrict      Resolution  \\\n",
       "477109  Saturday   INGLESIDE       UNFOUNDED   \n",
       "481359   Tuesday     MISSION  ARREST, BOOKED   \n",
       "229924   Tuesday  TENDERLOIN            NONE   \n",
       "242412  Thursday    SOUTHERN            NONE   \n",
       "336889  Saturday     CENTRAL   ARREST, CITED   \n",
       "\n",
       "                                      Address           X          Y  year  \\\n",
       "477109                  600 Block of PARIS ST -122.437324  37.718466  2008   \n",
       "481359                  0 Block of DIAMOND ST -122.437174  37.761316  2008   \n",
       "229924                  300 Block of ELLIS ST -122.411966  37.784914  2012   \n",
       "242412                 700 Block of HOWARD ST -122.401561  37.784089  2012   \n",
       "336889  THE EMBARCADERONORTH ST / BROADWAY ST -122.397392  37.799066  2010   \n",
       "\n",
       "        month      time  \n",
       "477109      8  14:00:00  \n",
       "481359      8  02:00:00  \n",
       "229924      4  12:30:00  \n",
       "242412      2  14:00:00  \n",
       "336889      9  21:11:00  "
      ]
     },
     "execution_count": 277,
     "metadata": {},
     "output_type": "execute_result"
    }
   ],
   "source": [
    "data2.head()"
   ]
  },
  {
   "cell_type": "code",
   "execution_count": 271,
   "metadata": {
    "collapsed": true
   },
   "outputs": [],
   "source": [
    "from collections import OrderedDict"
   ]
  },
  {
   "cell_type": "code",
   "execution_count": 283,
   "metadata": {
    "collapsed": false
   },
   "outputs": [
    {
     "data": {
      "text/plain": [
       "[('Monday', 65),\n",
       " ('Tuesday', 71),\n",
       " ('Wednesday', 77),\n",
       " ('Thursday', 78),\n",
       " ('Friday', 68),\n",
       " ('Saturday', 71),\n",
       " ('Sunday', 70)]"
      ]
     },
     "execution_count": 283,
     "metadata": {},
     "output_type": "execute_result"
    }
   ],
   "source": [
    "day_of_week = ['Monday','Tuesday','Wednesday','Thursday','Friday','Saturday','Sunday']\n",
    "day_sum = []\n",
    "for x in day_of_week:\n",
    "    counter = 0\n",
    "    for y in data2['DayOfWeek']:\n",
    "        if x == y:\n",
    "            counter += 1\n",
    "    day_sum.append((x,counter))\n",
    "    \n",
    "day_sum        "
   ]
  },
  {
   "cell_type": "code",
   "execution_count": 310,
   "metadata": {
    "collapsed": false
   },
   "outputs": [
    {
     "data": {
      "image/png": "[encoded data removed]",
      "text/plain": [
       "<matplotlib.figure.Figure at 0x108779b10>"
      ]
     },
     "metadata": {},
     "output_type": "display_data"
    }
   ],
   "source": [
    "xlabels = [x[0] for x in day_sum]\n",
    "y = [x[1] for x in day_sum]\n",
    "x = range(len(y))\n",
    "plt.bar(x,y,width=.5,align='center')\n",
    "plt.xlim(-.7,len(y))\n",
    "plt.xticks(x,xlabels,rotation='vertical')\n",
    "plt.show()"
   ]
  },
  {
   "cell_type": "markdown",
   "metadata": {},
   "source": [
    "---"
   ]
  },
  {
   "cell_type": "markdown",
   "metadata": {},
   "source": [
    "---"
   ]
  },
  {
   "cell_type": "markdown",
   "metadata": {},
   "source": [
    "---"
   ]
  },
  {
   "cell_type": "markdown",
   "metadata": {},
   "source": [
    "---"
   ]
  },
  {
   "cell_type": "markdown",
   "metadata": {},
   "source": [
    "---"
   ]
  },
  {
   "cell_type": "markdown",
   "metadata": {},
   "source": [
    "---"
   ]
  },
  {
   "cell_type": "markdown",
   "metadata": {},
   "source": [
    "---"
   ]
  },
  {
   "cell_type": "markdown",
   "metadata": {},
   "source": [
    "---"
   ]
  },
  {
   "cell_type": "markdown",
   "metadata": {},
   "source": [
    "---"
   ]
  },
  {
   "cell_type": "markdown",
   "metadata": {},
   "source": [
    "---"
   ]
  },
  {
   "cell_type": "markdown",
   "metadata": {},
   "source": [
    "---\n",
    "\n"
   ]
  },
  {
   "cell_type": "markdown",
   "metadata": {},
   "source": [
    "---"
   ]
  },
  {
   "cell_type": "markdown",
   "metadata": {},
   "source": [
    "---"
   ]
  },
  {
   "cell_type": "markdown",
   "metadata": {},
   "source": [
    "---"
   ]
  }
 ],
 "metadata": {
  "kernelspec": {
   "display_name": "Python 2",
   "language": "python",
   "name": "python2"
  },
  "language_info": {
   "codemirror_mode": {
    "name": "ipython",
    "version": 2
   },
   "file_extension": ".py",
   "mimetype": "text/x-python",
   "name": "python",
   "nbconvert_exporter": "python",
   "pygments_lexer": "ipython2",
   "version": "2.7.11"
  }
 },
 "nbformat": 4,
 "nbformat_minor": 0
}
