{
 "cells": [
  {
   "cell_type": "markdown",
   "metadata": {},
   "source": [
    "---"
   ]
  },
  {
   "cell_type": "code",
   "execution_count": 162,
   "metadata": {
    "collapsed": false
   },
   "outputs": [
    {
     "data": {
      "text/plain": [
       "u'/Users/Yasha/Desktop/DATASETS/AUTO MPG'"
      ]
     },
     "execution_count": 162,
     "metadata": {},
     "output_type": "execute_result"
    }
   ],
   "source": [
    "%pwd"
   ]
  },
  {
   "cell_type": "markdown",
   "metadata": {},
   "source": [
    "## MISSION:\n",
    "#### CREATE A SCANNER DEVICE FOR THE auto-mpg.data DATAFRAME TO VET IT:"
   ]
  },
  {
   "cell_type": "markdown",
   "metadata": {},
   "source": [
    "<b>This thing will showcase the sorted ends of a set of values in each column along with their data types. Observing the heads and tails of each column will help identify artifacts.</b>\n",
    "\n",
    "<i> I'm thinking this will make for some decent reusable analysis code for future dataframes I evaluate. Accumulating a tactical codebank for DataCoding will eventually enable me to fly through the process with ease by selecting the right moves from a ready_made resevoir and adapting them to the situation at hand</i>"
   ]
  },
  {
   "cell_type": "markdown",
   "metadata": {},
   "source": [
    "---"
   ]
  },
  {
   "cell_type": "markdown",
   "metadata": {},
   "source": [
    "#### STEP 1: READ IN TEH DATA:"
   ]
  },
  {
   "cell_type": "code",
   "execution_count": 133,
   "metadata": {
    "collapsed": true
   },
   "outputs": [],
   "source": [
    "data_columns = ['mpg','cylinders','displacement',\n",
    "                'horsepower','weight','acceleration',\n",
    "                'model year','origin','car name']"
   ]
  },
  {
   "cell_type": "code",
   "execution_count": 134,
   "metadata": {
    "collapsed": false
   },
   "outputs": [
    {
     "data": {
      "text/html": [
       "<div>\n",
       "<table border=\"1\" class=\"dataframe\">\n",
       "  <thead>\n",
       "    <tr style=\"text-align: right;\">\n",
       "      <th></th>\n",
       "      <th>mpg</th>\n",
       "      <th>cylinders</th>\n",
       "      <th>displacement</th>\n",
       "      <th>horsepower</th>\n",
       "      <th>weight</th>\n",
       "      <th>acceleration</th>\n",
       "      <th>model year</th>\n",
       "      <th>origin</th>\n",
       "      <th>car name</th>\n",
       "    </tr>\n",
       "  </thead>\n",
       "  <tbody>\n",
       "    <tr>\n",
       "      <th>0</th>\n",
       "      <td>18</td>\n",
       "      <td>8</td>\n",
       "      <td>307</td>\n",
       "      <td>130.0</td>\n",
       "      <td>3504</td>\n",
       "      <td>12.0</td>\n",
       "      <td>70</td>\n",
       "      <td>1</td>\n",
       "      <td>chevrolet chevelle malibu</td>\n",
       "    </tr>\n",
       "    <tr>\n",
       "      <th>1</th>\n",
       "      <td>15</td>\n",
       "      <td>8</td>\n",
       "      <td>350</td>\n",
       "      <td>165.0</td>\n",
       "      <td>3693</td>\n",
       "      <td>11.5</td>\n",
       "      <td>70</td>\n",
       "      <td>1</td>\n",
       "      <td>buick skylark 320</td>\n",
       "    </tr>\n",
       "    <tr>\n",
       "      <th>2</th>\n",
       "      <td>18</td>\n",
       "      <td>8</td>\n",
       "      <td>318</td>\n",
       "      <td>150.0</td>\n",
       "      <td>3436</td>\n",
       "      <td>11.0</td>\n",
       "      <td>70</td>\n",
       "      <td>1</td>\n",
       "      <td>plymouth satellite</td>\n",
       "    </tr>\n",
       "    <tr>\n",
       "      <th>3</th>\n",
       "      <td>16</td>\n",
       "      <td>8</td>\n",
       "      <td>304</td>\n",
       "      <td>150.0</td>\n",
       "      <td>3433</td>\n",
       "      <td>12.0</td>\n",
       "      <td>70</td>\n",
       "      <td>1</td>\n",
       "      <td>amc rebel sst</td>\n",
       "    </tr>\n",
       "    <tr>\n",
       "      <th>4</th>\n",
       "      <td>17</td>\n",
       "      <td>8</td>\n",
       "      <td>302</td>\n",
       "      <td>140.0</td>\n",
       "      <td>3449</td>\n",
       "      <td>10.5</td>\n",
       "      <td>70</td>\n",
       "      <td>1</td>\n",
       "      <td>ford torino</td>\n",
       "    </tr>\n",
       "    <tr>\n",
       "      <th>5</th>\n",
       "      <td>15</td>\n",
       "      <td>8</td>\n",
       "      <td>429</td>\n",
       "      <td>198.0</td>\n",
       "      <td>4341</td>\n",
       "      <td>10.0</td>\n",
       "      <td>70</td>\n",
       "      <td>1</td>\n",
       "      <td>ford galaxie 500</td>\n",
       "    </tr>\n",
       "    <tr>\n",
       "      <th>6</th>\n",
       "      <td>14</td>\n",
       "      <td>8</td>\n",
       "      <td>454</td>\n",
       "      <td>220.0</td>\n",
       "      <td>4354</td>\n",
       "      <td>9.0</td>\n",
       "      <td>70</td>\n",
       "      <td>1</td>\n",
       "      <td>chevrolet impala</td>\n",
       "    </tr>\n",
       "    <tr>\n",
       "      <th>7</th>\n",
       "      <td>14</td>\n",
       "      <td>8</td>\n",
       "      <td>440</td>\n",
       "      <td>215.0</td>\n",
       "      <td>4312</td>\n",
       "      <td>8.5</td>\n",
       "      <td>70</td>\n",
       "      <td>1</td>\n",
       "      <td>plymouth fury iii</td>\n",
       "    </tr>\n",
       "    <tr>\n",
       "      <th>8</th>\n",
       "      <td>14</td>\n",
       "      <td>8</td>\n",
       "      <td>455</td>\n",
       "      <td>225.0</td>\n",
       "      <td>4425</td>\n",
       "      <td>10.0</td>\n",
       "      <td>70</td>\n",
       "      <td>1</td>\n",
       "      <td>pontiac catalina</td>\n",
       "    </tr>\n",
       "    <tr>\n",
       "      <th>9</th>\n",
       "      <td>15</td>\n",
       "      <td>8</td>\n",
       "      <td>390</td>\n",
       "      <td>190.0</td>\n",
       "      <td>3850</td>\n",
       "      <td>8.5</td>\n",
       "      <td>70</td>\n",
       "      <td>1</td>\n",
       "      <td>amc ambassador dpl</td>\n",
       "    </tr>\n",
       "  </tbody>\n",
       "</table>\n",
       "</div>"
      ],
      "text/plain": [
       "   mpg  cylinders  displacement horsepower  weight  acceleration  model year  \\\n",
       "0   18          8           307      130.0    3504          12.0          70   \n",
       "1   15          8           350      165.0    3693          11.5          70   \n",
       "2   18          8           318      150.0    3436          11.0          70   \n",
       "3   16          8           304      150.0    3433          12.0          70   \n",
       "4   17          8           302      140.0    3449          10.5          70   \n",
       "5   15          8           429      198.0    4341          10.0          70   \n",
       "6   14          8           454      220.0    4354           9.0          70   \n",
       "7   14          8           440      215.0    4312           8.5          70   \n",
       "8   14          8           455      225.0    4425          10.0          70   \n",
       "9   15          8           390      190.0    3850           8.5          70   \n",
       "\n",
       "   origin                   car name  \n",
       "0       1  chevrolet chevelle malibu  \n",
       "1       1          buick skylark 320  \n",
       "2       1         plymouth satellite  \n",
       "3       1              amc rebel sst  \n",
       "4       1                ford torino  \n",
       "5       1           ford galaxie 500  \n",
       "6       1           chevrolet impala  \n",
       "7       1          plymouth fury iii  \n",
       "8       1           pontiac catalina  \n",
       "9       1         amc ambassador dpl  "
      ]
     },
     "execution_count": 134,
     "metadata": {},
     "output_type": "execute_result"
    }
   ],
   "source": [
    "data = pd.read_csv('auto-mpg.data',delim_whitespace = True,names=data_columns)\n",
    "data[:10]"
   ]
  },
  {
   "cell_type": "markdown",
   "metadata": {},
   "source": [
    "---"
   ]
  },
  {
   "cell_type": "markdown",
   "metadata": {},
   "source": [
    "#### STEP 2: CODE A FUNCTION TO DO THE JOB:"
   ]
  },
  {
   "cell_type": "code",
   "execution_count": 148,
   "metadata": {
    "collapsed": false
   },
   "outputs": [
    {
     "data": {
      "text/plain": [
       "[['mpg',\n",
       "  [[9.0, numpy.float64],\n",
       "   [10.0, numpy.float64],\n",
       "   [11.0, numpy.float64],\n",
       "   [12.0, numpy.float64],\n",
       "   [13.0, numpy.float64],\n",
       "   [14.0, numpy.float64],\n",
       "   [14.5, numpy.float64],\n",
       "   [15.0, numpy.float64],\n",
       "   [15.5, numpy.float64],\n",
       "   [16.0, numpy.float64]],\n",
       "  [[46.600000000000001, numpy.float64],\n",
       "   [44.600000000000001, numpy.float64],\n",
       "   [44.299999999999997, numpy.float64],\n",
       "   [44.0, numpy.float64],\n",
       "   [43.399999999999999, numpy.float64],\n",
       "   [43.100000000000001, numpy.float64],\n",
       "   [41.5, numpy.float64],\n",
       "   [40.899999999999999, numpy.float64],\n",
       "   [40.799999999999997, numpy.float64],\n",
       "   [39.399999999999999, numpy.float64]]],\n",
       " ['cylinders',\n",
       "  [[3, numpy.int64],\n",
       "   [4, numpy.int64],\n",
       "   [5, numpy.int64],\n",
       "   [6, numpy.int64],\n",
       "   [8, numpy.int64]],\n",
       "  [[8, numpy.int64],\n",
       "   [6, numpy.int64],\n",
       "   [5, numpy.int64],\n",
       "   [4, numpy.int64],\n",
       "   [3, numpy.int64]]],\n",
       " ['displacement',\n",
       "  [[68.0, numpy.float64],\n",
       "   [70.0, numpy.float64],\n",
       "   [71.0, numpy.float64],\n",
       "   [72.0, numpy.float64],\n",
       "   [76.0, numpy.float64],\n",
       "   [78.0, numpy.float64],\n",
       "   [79.0, numpy.float64],\n",
       "   [80.0, numpy.float64],\n",
       "   [81.0, numpy.float64],\n",
       "   [83.0, numpy.float64]],\n",
       "  [[455.0, numpy.float64],\n",
       "   [454.0, numpy.float64],\n",
       "   [440.0, numpy.float64],\n",
       "   [429.0, numpy.float64],\n",
       "   [400.0, numpy.float64],\n",
       "   [390.0, numpy.float64],\n",
       "   [383.0, numpy.float64],\n",
       "   [360.0, numpy.float64],\n",
       "   [351.0, numpy.float64],\n",
       "   [350.0, numpy.float64]]],\n",
       " ['horsepower',\n",
       "  [['100.0', str],\n",
       "   ['102.0', str],\n",
       "   ['103.0', str],\n",
       "   ['105.0', str],\n",
       "   ['107.0', str],\n",
       "   ['108.0', str],\n",
       "   ['110.0', str],\n",
       "   ['112.0', str],\n",
       "   ['113.0', str],\n",
       "   ['115.0', str]],\n",
       "  [['?', str],\n",
       "   ['98.00', str],\n",
       "   ['97.00', str],\n",
       "   ['96.00', str],\n",
       "   ['95.00', str],\n",
       "   ['94.00', str],\n",
       "   ['93.00', str],\n",
       "   ['92.00', str],\n",
       "   ['91.00', str],\n",
       "   ['90.00', str]]],\n",
       " ['weight',\n",
       "  [[1613.0, numpy.float64],\n",
       "   [1649.0, numpy.float64],\n",
       "   [1755.0, numpy.float64],\n",
       "   [1760.0, numpy.float64],\n",
       "   [1773.0, numpy.float64],\n",
       "   [1795.0, numpy.float64],\n",
       "   [1800.0, numpy.float64],\n",
       "   [1825.0, numpy.float64],\n",
       "   [1834.0, numpy.float64],\n",
       "   [1835.0, numpy.float64]],\n",
       "  [[5140.0, numpy.float64],\n",
       "   [4997.0, numpy.float64],\n",
       "   [4955.0, numpy.float64],\n",
       "   [4952.0, numpy.float64],\n",
       "   [4951.0, numpy.float64],\n",
       "   [4906.0, numpy.float64],\n",
       "   [4746.0, numpy.float64],\n",
       "   [4735.0, numpy.float64],\n",
       "   [4732.0, numpy.float64],\n",
       "   [4699.0, numpy.float64]]],\n",
       " ['acceleration',\n",
       "  [[8.0, numpy.float64],\n",
       "   [8.5, numpy.float64],\n",
       "   [9.0, numpy.float64],\n",
       "   [9.5, numpy.float64],\n",
       "   [10.0, numpy.float64],\n",
       "   [10.5, numpy.float64],\n",
       "   [11.0, numpy.float64],\n",
       "   [11.1, numpy.float64],\n",
       "   [11.199999999999999, numpy.float64],\n",
       "   [11.300000000000001, numpy.float64]],\n",
       "  [[24.800000000000001, numpy.float64],\n",
       "   [24.600000000000001, numpy.float64],\n",
       "   [23.699999999999999, numpy.float64],\n",
       "   [23.5, numpy.float64],\n",
       "   [22.199999999999999, numpy.float64],\n",
       "   [22.100000000000001, numpy.float64],\n",
       "   [21.899999999999999, numpy.float64],\n",
       "   [21.800000000000001, numpy.float64],\n",
       "   [21.699999999999999, numpy.float64],\n",
       "   [21.5, numpy.float64]]],\n",
       " ['model year',\n",
       "  [[70, numpy.int64],\n",
       "   [71, numpy.int64],\n",
       "   [72, numpy.int64],\n",
       "   [73, numpy.int64],\n",
       "   [74, numpy.int64],\n",
       "   [75, numpy.int64],\n",
       "   [76, numpy.int64],\n",
       "   [77, numpy.int64],\n",
       "   [78, numpy.int64],\n",
       "   [79, numpy.int64]],\n",
       "  [[82, numpy.int64],\n",
       "   [81, numpy.int64],\n",
       "   [80, numpy.int64],\n",
       "   [79, numpy.int64],\n",
       "   [78, numpy.int64],\n",
       "   [77, numpy.int64],\n",
       "   [76, numpy.int64],\n",
       "   [75, numpy.int64],\n",
       "   [74, numpy.int64],\n",
       "   [73, numpy.int64]]],\n",
       " ['origin',\n",
       "  [[1, numpy.int64], [2, numpy.int64], [3, numpy.int64]],\n",
       "  [[3, numpy.int64], [2, numpy.int64], [1, numpy.int64]]],\n",
       " ['car name',\n",
       "  [['amc ambassador brougham', str],\n",
       "   ['amc ambassador dpl', str],\n",
       "   ['amc ambassador sst', str],\n",
       "   ['amc concord', str],\n",
       "   ['amc concord d/l', str],\n",
       "   ['amc concord dl', str],\n",
       "   ['amc concord dl 6', str],\n",
       "   ['amc gremlin', str],\n",
       "   ['amc hornet', str],\n",
       "   ['amc hornet sportabout (sw)', str]],\n",
       "  [['vw rabbit custom', str],\n",
       "   ['vw rabbit c (diesel)', str],\n",
       "   ['vw rabbit', str],\n",
       "   ['vw pickup', str],\n",
       "   ['vw dasher (diesel)', str],\n",
       "   ['volvo diesel', str],\n",
       "   ['volvo 264gl', str],\n",
       "   ['volvo 245', str],\n",
       "   ['volvo 244dl', str],\n",
       "   ['volvo 145e (sw)', str]]]]"
      ]
     },
     "execution_count": 148,
     "metadata": {},
     "output_type": "execute_result"
    }
   ],
   "source": [
    "def vet(data_frame):\n",
    "    \n",
    "    all_values = []\n",
    "    \n",
    "    for column in [str(x) for x in data_frame]:\n",
    "        \n",
    "        sorter_1 = sorted(set(data_frame[column]),reverse=False)[:10]\n",
    "        sorter_2 = sorted(set(data_frame[column]),reverse=True)[:10]\n",
    "        \n",
    "        sorter_1 = [[x,type(x)] for x in sorter_1]\n",
    "        sorter_2 = [[x,type(x)] for x in sorter_2]\n",
    "        \n",
    "        all_values.append([column,sorter_1,sorter_2])\n",
    "        \n",
    "    return(all_values)\n",
    "\n",
    "vet(data)"
   ]
  },
  {
   "cell_type": "markdown",
   "metadata": {},
   "source": [
    "From the above, we find an aberration in the <b>horsepower<b/> category.\n",
    "\n",
    "We also see horsepower integers coded as strings..."
   ]
  },
  {
   "cell_type": "code",
   "execution_count": 157,
   "metadata": {
    "collapsed": false
   },
   "outputs": [
    {
     "data": {
      "text/plain": [
       "['?', str]"
      ]
     },
     "execution_count": 157,
     "metadata": {},
     "output_type": "execute_result"
    }
   ],
   "source": [
    "vet(data)[3][2][0]"
   ]
  },
  {
   "cell_type": "code",
   "execution_count": 160,
   "metadata": {
    "collapsed": false
   },
   "outputs": [
    {
     "data": {
      "text/plain": [
       "[[['100.0', str],\n",
       "  ['102.0', str],\n",
       "  ['103.0', str],\n",
       "  ['105.0', str],\n",
       "  ['107.0', str],\n",
       "  ['108.0', str],\n",
       "  ['110.0', str],\n",
       "  ['112.0', str],\n",
       "  ['113.0', str],\n",
       "  ['115.0', str]],\n",
       " [['?', str],\n",
       "  ['98.00', str],\n",
       "  ['97.00', str],\n",
       "  ['96.00', str],\n",
       "  ['95.00', str],\n",
       "  ['94.00', str],\n",
       "  ['93.00', str],\n",
       "  ['92.00', str],\n",
       "  ['91.00', str],\n",
       "  ['90.00', str]]]"
      ]
     },
     "execution_count": 160,
     "metadata": {},
     "output_type": "execute_result"
    }
   ],
   "source": [
    "vet(data)[3][1:3]"
   ]
  },
  {
   "cell_type": "markdown",
   "metadata": {},
   "source": [
    "We can now proceed to process this column and deal with the artifacts!"
   ]
  },
  {
   "cell_type": "markdown",
   "metadata": {},
   "source": [
    "---"
   ]
  }
 ],
 "metadata": {
  "kernelspec": {
   "display_name": "Python 2",
   "language": "python",
   "name": "python2"
  },
  "language_info": {
   "codemirror_mode": {
    "name": "ipython",
    "version": 2
   },
   "file_extension": ".py",
   "mimetype": "text/x-python",
   "name": "python",
   "nbconvert_exporter": "python",
   "pygments_lexer": "ipython2",
   "version": "2.7.11"
  }
 },
 "nbformat": 4,
 "nbformat_minor": 0
}
