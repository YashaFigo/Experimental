{
 "cells": [
  {
   "cell_type": "code",
   "execution_count": 11,
   "metadata": {
    "collapsed": false
   },
   "outputs": [
    {
     "name": "stdout",
     "output_type": "stream",
     "text": [
      "/Users/Yasha/Desktop/DATASETS/TIMESERIES\n"
     ]
    }
   ],
   "source": [
    "%cd /Users/Yasha/Desktop/DATASETS/TIMESERIES\n",
    "%ls"
   ]
  },
  {
   "cell_type": "code",
   "execution_count": 48,
   "metadata": {
    "collapsed": false
   },
   "outputs": [],
   "source": [
    "import time\n",
    "import datetime\n",
    "import random\n",
    "import radar"
   ]
  },
  {
   "cell_type": "code",
   "execution_count": 51,
   "metadata": {
    "collapsed": false
   },
   "outputs": [
    {
     "data": {
      "text/plain": [
       "datetime.datetime(2002, 10, 24, 5, 34, 2)"
      ]
     },
     "execution_count": 51,
     "metadata": {},
     "output_type": "execute_result"
    }
   ],
   "source": [
    "radar.random_datetime()"
   ]
  },
  {
   "cell_type": "code",
   "execution_count": 69,
   "metadata": {
    "collapsed": false
   },
   "outputs": [],
   "source": [
    "def time_gen():\n",
    "    return radar.random_datetime(start = '2016-04-05T00:00:00',stop = '2017-04-05T00:00:00')"
   ]
  },
  {
   "cell_type": "code",
   "execution_count": 115,
   "metadata": {
    "collapsed": false
   },
   "outputs": [
    {
     "data": {
      "text/plain": [
       "datetime.datetime(2001, 2, 3, 4, 5, 6)"
      ]
     },
     "execution_count": 115,
     "metadata": {},
     "output_type": "execute_result"
    }
   ],
   "source": [
    "starter = radar.random_datetime(start = '2001-02-03T04:05:06',stop = '2001-02-03T04:05:06')\n",
    "starter"
   ]
  },
  {
   "cell_type": "code",
   "execution_count": 71,
   "metadata": {
    "collapsed": false
   },
   "outputs": [
    {
     "name": "stdout",
     "output_type": "stream",
     "text": [
      "2017-02-23 15:48:01\n",
      "2016-07-31 10:59:15\n",
      "2017-01-02 19:38:58\n",
      "2016-10-25 06:32:30\n",
      "2016-07-28 20:06:42\n",
      "2017-02-16 23:28:40\n",
      "2016-10-04 12:18:15\n",
      "2017-04-03 14:17:11\n",
      "2017-03-29 12:14:39\n",
      "2016-05-24 21:40:46\n",
      "2016-12-01 11:03:35\n",
      "2016-06-20 16:11:12\n",
      "2017-01-03 08:43:56\n",
      "2017-03-30 10:30:35\n",
      "2016-08-01 14:48:32\n",
      "2017-01-16 18:34:12\n",
      "2016-11-20 03:10:20\n",
      "2016-08-27 04:53:23\n",
      "2017-01-26 16:33:02\n",
      "2016-11-26 09:22:44\n"
     ]
    }
   ],
   "source": [
    "times = []\n",
    "for x in range(20):\n",
    "    times.append(time_gen())\n",
    "\n",
    "for x in times: print x"
   ]
  },
  {
   "cell_type": "code",
   "execution_count": 96,
   "metadata": {
    "collapsed": false
   },
   "outputs": [
    {
     "name": "stdout",
     "output_type": "stream",
     "text": [
      "2000-01-01 01:00:00\n",
      "207 days, 4:48:46\n",
      "2000-07-26 05:48:46\n"
     ]
    }
   ],
   "source": [
    "delta = times[0]-times[1]\n",
    "print(starter)\n",
    "print(delta)\n",
    "print(starter + delta)"
   ]
  },
  {
   "cell_type": "markdown",
   "metadata": {},
   "source": [
    "---"
   ]
  },
  {
   "cell_type": "markdown",
   "metadata": {},
   "source": [
    "---"
   ]
  },
  {
   "cell_type": "markdown",
   "metadata": {},
   "source": [
    "---"
   ]
  },
  {
   "cell_type": "markdown",
   "metadata": {},
   "source": [
    "---"
   ]
  },
  {
   "cell_type": "code",
   "execution_count": 116,
   "metadata": {
    "collapsed": true
   },
   "outputs": [],
   "source": [
    "import radar"
   ]
  },
  {
   "cell_type": "code",
   "execution_count": 129,
   "metadata": {
    "collapsed": false
   },
   "outputs": [
    {
     "data": {
      "text/plain": [
       "datetime.datetime(2016, 12, 22, 18, 48, 42)"
      ]
     },
     "execution_count": 129,
     "metadata": {},
     "output_type": "execute_result"
    }
   ],
   "source": [
    "random_datetime = radar.random_datetime(start = \"2016-01-01T01:00:00\",stop = \"2016-12-31T01:00:00\")\n",
    "random_datetime"
   ]
  },
  {
   "cell_type": "code",
   "execution_count": 151,
   "metadata": {
    "collapsed": false
   },
   "outputs": [
    {
     "data": {
      "text/plain": [
       "[datetime.datetime(2016, 1, 19, 1, 43, 8),\n",
       " datetime.datetime(2016, 2, 15, 10, 10, 19),\n",
       " datetime.datetime(2016, 3, 9, 10, 0, 23),\n",
       " datetime.datetime(2016, 3, 16, 5, 15, 12),\n",
       " datetime.datetime(2016, 3, 16, 10, 44, 25),\n",
       " datetime.datetime(2016, 3, 25, 3, 59, 3),\n",
       " datetime.datetime(2016, 5, 22, 8, 39, 14),\n",
       " datetime.datetime(2016, 6, 26, 11, 24, 6),\n",
       " datetime.datetime(2016, 8, 13, 15, 58, 27),\n",
       " datetime.datetime(2016, 9, 20, 0, 41, 28)]"
      ]
     },
     "execution_count": 151,
     "metadata": {},
     "output_type": "execute_result"
    }
   ],
   "source": [
    "def random_datetimer():\n",
    "    return radar.random_datetime(start = \"2016-01-01T01:00:00\",\n",
    "                                 stop = \"2016-12-31T01:00:00\")\n",
    "times = []\n",
    "\n",
    "for x in range(10):\n",
    "    times.append(random_datetimer())\n",
    "    \n",
    "times = sorted(times)\n",
    "times"
   ]
  },
  {
   "cell_type": "code",
   "execution_count": 155,
   "metadata": {
    "collapsed": true
   },
   "outputs": [],
   "source": [
    "import matplotlib\n",
    "import matplotlib.pyplot as plt\n",
    "%matplotlib inline"
   ]
  },
  {
   "cell_type": "code",
   "execution_count": 175,
   "metadata": {
    "collapsed": false
   },
   "outputs": [
    {
     "data": {
      "text/plain": [
       "<Container object of 10 artists>"
      ]
     },
     "execution_count": 175,
     "metadata": {},
     "output_type": "execute_result"
    },
    {
     "data": {
      "image/png": "[encoded data removed]",
      "text/plain": [
       "<matplotlib.figure.Figure at 0x10e63a750>"
      ]
     },
     "metadata": {},
     "output_type": "display_data"
    }
   ],
   "source": [
    "plt.figure(figsize = (10,3))\n",
    "plt.bar(times,[1,1,1,1,1,1,1,1,1,1])"
   ]
  },
  {
   "cell_type": "markdown",
   "metadata": {},
   "source": [
    "---"
   ]
  },
  {
   "cell_type": "code",
   "execution_count": 208,
   "metadata": {
    "collapsed": false
   },
   "outputs": [
    {
     "data": {
      "text/plain": [
       "<Container object of 10 artists>"
      ]
     },
     "execution_count": 208,
     "metadata": {},
     "output_type": "execute_result"
    },
    {
     "data": {
      "image/png": "[encoded data removed]",
      "text/plain": [
       "<matplotlib.figure.Figure at 0x10fe4b050>"
      ]
     },
     "metadata": {},
     "output_type": "display_data"
    }
   ],
   "source": [
    "plt.figure(figsize = (10,10))\n",
    "plt.bar([x[0] for x in timer_delta],[x[1].days for x in timer_delta])"
   ]
  },
  {
   "cell_type": "markdown",
   "metadata": {},
   "source": [
    "---"
   ]
  },
  {
   "cell_type": "markdown",
   "metadata": {},
   "source": [
    "---"
   ]
  },
  {
   "cell_type": "markdown",
   "metadata": {},
   "source": [
    "---"
   ]
  },
  {
   "cell_type": "markdown",
   "metadata": {},
   "source": [
    "---\n",
    "\n"
   ]
  },
  {
   "cell_type": "markdown",
   "metadata": {},
   "source": [
    "---"
   ]
  },
  {
   "cell_type": "markdown",
   "metadata": {},
   "source": [
    "---"
   ]
  },
  {
   "cell_type": "markdown",
   "metadata": {},
   "source": [
    "---"
   ]
  },
  {
   "cell_type": "markdown",
   "metadata": {},
   "source": [
    "---"
   ]
  },
  {
   "cell_type": "markdown",
   "metadata": {},
   "source": [
    "---\n",
    "\n"
   ]
  }
 ],
 "metadata": {
  "kernelspec": {
   "display_name": "Python 2",
   "language": "python",
   "name": "python2"
  },
  "language_info": {
   "codemirror_mode": {
    "name": "ipython",
    "version": 2
   },
   "file_extension": ".py",
   "mimetype": "text/x-python",
   "name": "python",
   "nbconvert_exporter": "python",
   "pygments_lexer": "ipython2",
   "version": "2.7.11"
  }
 },
 "nbformat": 4,
 "nbformat_minor": 0
}
