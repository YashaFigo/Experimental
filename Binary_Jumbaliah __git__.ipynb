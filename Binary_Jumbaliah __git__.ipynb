{
 "cells": [
  {
   "cell_type": "markdown",
   "metadata": {},
   "source": [
    "### Hacking on conversion between decimal and binary numbers"
   ]
  },
  {
   "cell_type": "markdown",
   "metadata": {},
   "source": [
    "#### The seed at the core of the functional chain:"
   ]
  },
  {
   "cell_type": "code",
   "execution_count": 15,
   "metadata": {
    "collapsed": false
   },
   "outputs": [
    {
     "data": {
      "text/plain": [
       "[64, 32, 16, 8, 4, 2, 1]"
      ]
     },
     "execution_count": 15,
     "metadata": {},
     "output_type": "execute_result"
    }
   ],
   "source": [
    "def seed_index(decimal):\n",
    "    index = [1]\n",
    "    while sum(index)<decimal:\n",
    "        index.append(index[-1]*2)\n",
    "    return [x for x in reversed(index)]\n",
    "\n",
    "seed_index(64)"
   ]
  },
  {
   "cell_type": "markdown",
   "metadata": {},
   "source": [
    "#### Convert number to binary:"
   ]
  },
  {
   "cell_type": "code",
   "execution_count": 16,
   "metadata": {
    "collapsed": false
   },
   "outputs": [
    {
     "data": {
      "text/plain": [
       "1100100"
      ]
     },
     "execution_count": 16,
     "metadata": {},
     "output_type": "execute_result"
    }
   ],
   "source": [
    "def to_binary(target_number):\n",
    "    \n",
    "    encoding = []\n",
    "    index = seed_index(target_number)\n",
    "\n",
    "    for x in index:\n",
    "        if (sum(encoding)+x) <= target_number:\n",
    "            encoding.append(x)\n",
    "        else:\n",
    "            encoding.append(0)\n",
    "\n",
    "    binary_encoder = []\n",
    "\n",
    "    for x in encoding:\n",
    "        if x != 0:\n",
    "            binary_encoder.append(1)\n",
    "        else:\n",
    "            binary_encoder.append(0)\n",
    "\n",
    "    return int(\"\".join([str(x) for x in binary_encoder]))\n",
    "\n",
    "to_binary(100)"
   ]
  },
  {
   "cell_type": "markdown",
   "metadata": {},
   "source": [
    "#### Convert to decimal:"
   ]
  },
  {
   "cell_type": "code",
   "execution_count": 17,
   "metadata": {
    "collapsed": false
   },
   "outputs": [
    {
     "data": {
      "text/plain": [
       "64"
      ]
     },
     "execution_count": 17,
     "metadata": {},
     "output_type": "execute_result"
    }
   ],
   "source": [
    "def to_decimal(target_binary):\n",
    "\n",
    "    binary_splitter = [int(x) for x in str(target_binary)]\n",
    "    \n",
    "    indexer = []\n",
    "    \n",
    "    for x in binary_splitter:\n",
    "        if len(indexer)==0:\n",
    "            indexer.append(x)\n",
    "        else:\n",
    "            indexer.append(indexer[-1]*2)\n",
    "            \n",
    "    indexer = [x for x in reversed(indexer)]\n",
    "    \n",
    "    zipper = zip(binary_splitter,indexer)\n",
    "    \n",
    "    converted_number = 0\n",
    "    \n",
    "    for x in zipper:\n",
    "        if x[0]==1:\n",
    "            converted_number += x[1]\n",
    "    \n",
    "    return converted_number\n",
    "    \n",
    "to_decimal(1000000)"
   ]
  },
  {
   "cell_type": "markdown",
   "metadata": {},
   "source": [
    "#### Convert either way:"
   ]
  },
  {
   "cell_type": "code",
   "execution_count": 18,
   "metadata": {
    "collapsed": true
   },
   "outputs": [],
   "source": [
    "class Convertex:\n",
    "    def __init__(self,b_or_d,variable):\n",
    "        \n",
    "        if b_or_d == 'b':\n",
    "            self.binary = variable\n",
    "            self.decimal = to_decimal(variable)\n",
    "                        \n",
    "        elif b_or_d == 'd':\n",
    "            self.binary = to_binary(variable)\n",
    "            self.decimal = variable  "
   ]
  },
  {
   "cell_type": "code",
   "execution_count": 19,
   "metadata": {
    "collapsed": false
   },
   "outputs": [
    {
     "name": "stdout",
     "output_type": "stream",
     "text": [
      "<__main__.Convertex instance at 0x104b4ab00>\n",
      "binary = 100,decimal = 4\n"
     ]
    }
   ],
   "source": [
    "bin1 = Convertex('b',100)\n",
    "print(bin1)\n",
    "print('binary = %i,decimal = %i') % (bin1.binary,bin1.decimal)"
   ]
  },
  {
   "cell_type": "markdown",
   "metadata": {},
   "source": [
    "---"
   ]
  },
  {
   "cell_type": "markdown",
   "metadata": {},
   "source": [
    "## JUMBALIAH:"
   ]
  },
  {
   "cell_type": "code",
   "execution_count": 20,
   "metadata": {
    "collapsed": false
   },
   "outputs": [
    {
     "data": {
      "text/plain": [
       "[1011001001,\n",
       " 713,\n",
       " 1001100,\n",
       " 76,\n",
       " 110000011,\n",
       " 387,\n",
       " 1001110,\n",
       " 78,\n",
       " 1010111111,\n",
       " 703,\n",
       " 100100001,\n",
       " 289,\n",
       " 110101001,\n",
       " 425,\n",
       " 1001100111,\n",
       " 615,\n",
       " 1000111011,\n",
       " 571,\n",
       " 1010101100,\n",
       " 684,\n",
       " 10101001,\n",
       " 169,\n",
       " 1110110110,\n",
       " 950,\n",
       " 1010000011,\n",
       " 643,\n",
       " 100010001,\n",
       " 273,\n",
       " 1110000010,\n",
       " 898,\n",
       " 101011111,\n",
       " 351,\n",
       " 1110011001,\n",
       " 921,\n",
       " 111110001,\n",
       " 497,\n",
       " 100011010,\n",
       " 282,\n",
       " 1001001010,\n",
       " 586]"
      ]
     },
     "execution_count": 20,
     "metadata": {},
     "output_type": "execute_result"
    }
   ],
   "source": [
    "import random\n",
    "\n",
    "choice_list = []\n",
    "\n",
    "for x in range(1,1000):\n",
    "    choice_list.append(random.choice(range(1,1000)))\n",
    "\n",
    "binary_decimals = [(Convertex('d',x)) for x in choice_list]\n",
    "\n",
    "sampler = random.sample(binary_decimals,20)\n",
    "\n",
    "counter = 0\n",
    "\n",
    "spine = []\n",
    "\n",
    "for x in sampler:\n",
    "    if counter == 0:\n",
    "        spine.append(x.binary)\n",
    "        counter = 1\n",
    "        \n",
    "    if counter == 1:\n",
    "        spine.append(x.decimal)\n",
    "        counter = 0\n",
    "        \n",
    "spine"
   ]
  },
  {
   "cell_type": "code",
   "execution_count": 21,
   "metadata": {
    "collapsed": false
   },
   "outputs": [
    {
     "data": {
      "text/plain": [
       "array([1011001001,        713,    1001100,         76,  110000011,\n",
       "              387,    1001110,         78, 1010111111,        703,\n",
       "        100100001,        289,  110101001,        425, 1001100111,\n",
       "              615, 1000111011,        571, 1010101100,        684,\n",
       "         10101001,        169, 1110110110,        950, 1010000011,\n",
       "              643,  100010001,        273, 1110000010,        898,\n",
       "        101011111,        351, 1110011001,        921,  111110001,\n",
       "              497,  100011010,        282, 1001001010,        586])"
      ]
     },
     "execution_count": 21,
     "metadata": {},
     "output_type": "execute_result"
    }
   ],
   "source": [
    "array = np.array(spine)\n",
    "array"
   ]
  },
  {
   "cell_type": "code",
   "execution_count": 22,
   "metadata": {
    "collapsed": false
   },
   "outputs": [
    {
     "data": {
      "text/plain": [
       "[array([[1011001001,        713,    1001100,         76],\n",
       "        [ 110000011,        387,    1001110,         78],\n",
       "        [1010111111,        703,  100100001,        289],\n",
       "        [ 110101001,        425, 1001100111,        615],\n",
       "        [1000111011,        571, 1010101100,        684],\n",
       "        [  10101001,        169, 1110110110,        950],\n",
       "        [1010000011,        643,  100010001,        273],\n",
       "        [1110000010,        898,  101011111,        351],\n",
       "        [1110011001,        921,  111110001,        497],\n",
       "        [ 100011010,        282, 1001001010,        586]]),\n",
       " array([[1011001001,        713,    1001100,         76],\n",
       "        [ 110000011,        387,    1001110,         78],\n",
       "        [1010111111,        703,  100100001,        289],\n",
       "        [ 110101001,        425, 1001100111,        615],\n",
       "        [1000111011,        571, 1010101100,        684],\n",
       "        [  10101001,        169, 1110110110,        950],\n",
       "        [1010000011,        643,  100010001,        273],\n",
       "        [1110000010,        898,  101011111,        351],\n",
       "        [1110011001,        921,  111110001,        497],\n",
       "        [ 100011010,        282, 1001001010,        586]]),\n",
       " array([[1011001001,        713,    1001100,         76],\n",
       "        [ 110000011,        387,    1001110,         78],\n",
       "        [1010111111,        703,  100100001,        289],\n",
       "        [ 110101001,        425, 1001100111,        615],\n",
       "        [1000111011,        571, 1010101100,        684],\n",
       "        [  10101001,        169, 1110110110,        950],\n",
       "        [1010000011,        643,  100010001,        273],\n",
       "        [1110000010,        898,  101011111,        351],\n",
       "        [1110011001,        921,  111110001,        497],\n",
       "        [ 100011010,        282, 1001001010,        586]])]"
      ]
     },
     "execution_count": 22,
     "metadata": {},
     "output_type": "execute_result"
    }
   ],
   "source": [
    "def choose(quantity):\n",
    "    \n",
    "    list_ex = []\n",
    "    \n",
    "    random.seed = 0\n",
    "    for x in range(quantity):\n",
    "        choose = random.choice([0,1])\n",
    "        if choose == 0:\n",
    "            list_ex.append(array.reshape(10,4))\n",
    "        elif choose == 1:\n",
    "            list_ex.append(array.reshape(4,10)) \n",
    "    random.seed += 1\n",
    "    \n",
    "    return list_ex\n",
    "\n",
    "choose(3)"
   ]
  },
  {
   "cell_type": "code",
   "execution_count": 23,
   "metadata": {
    "collapsed": false
   },
   "outputs": [
    {
     "data": {
      "text/plain": [
       "[4, 9, 5, 9, 9, 5, 7, 7, 3, 2]"
      ]
     },
     "execution_count": 23,
     "metadata": {},
     "output_type": "execute_result"
    }
   ],
   "source": [
    "choice_list = [random.choice(range(1,10)) for x in range(10)]\n",
    "choice_list"
   ]
  },
  {
   "cell_type": "code",
   "execution_count": 24,
   "metadata": {
    "collapsed": false
   },
   "outputs": [
    {
     "data": {
      "text/plain": [
       "[[array([[1011001001,        713,    1001100,         76,  110000011,\n",
       "                 387,    1001110,         78, 1010111111,        703],\n",
       "         [ 100100001,        289,  110101001,        425, 1001100111,\n",
       "                 615, 1000111011,        571, 1010101100,        684],\n",
       "         [  10101001,        169, 1110110110,        950, 1010000011,\n",
       "                 643,  100010001,        273, 1110000010,        898],\n",
       "         [ 101011111,        351, 1110011001,        921,  111110001,\n",
       "                 497,  100011010,        282, 1001001010,        586]])],\n",
       " [array([[1011001001,        713,    1001100,         76,  110000011,\n",
       "                 387,    1001110,         78, 1010111111,        703],\n",
       "         [ 100100001,        289,  110101001,        425, 1001100111,\n",
       "                 615, 1000111011,        571, 1010101100,        684],\n",
       "         [  10101001,        169, 1110110110,        950, 1010000011,\n",
       "                 643,  100010001,        273, 1110000010,        898],\n",
       "         [ 101011111,        351, 1110011001,        921,  111110001,\n",
       "                 497,  100011010,        282, 1001001010,        586]]),\n",
       "  array([[1011001001,        713,    1001100,         76],\n",
       "         [ 110000011,        387,    1001110,         78],\n",
       "         [1010111111,        703,  100100001,        289],\n",
       "         [ 110101001,        425, 1001100111,        615],\n",
       "         [1000111011,        571, 1010101100,        684],\n",
       "         [  10101001,        169, 1110110110,        950],\n",
       "         [1010000011,        643,  100010001,        273],\n",
       "         [1110000010,        898,  101011111,        351],\n",
       "         [1110011001,        921,  111110001,        497],\n",
       "         [ 100011010,        282, 1001001010,        586]]),\n",
       "  array([[1011001001,        713,    1001100,         76],\n",
       "         [ 110000011,        387,    1001110,         78],\n",
       "         [1010111111,        703,  100100001,        289],\n",
       "         [ 110101001,        425, 1001100111,        615],\n",
       "         [1000111011,        571, 1010101100,        684],\n",
       "         [  10101001,        169, 1110110110,        950],\n",
       "         [1010000011,        643,  100010001,        273],\n",
       "         [1110000010,        898,  101011111,        351],\n",
       "         [1110011001,        921,  111110001,        497],\n",
       "         [ 100011010,        282, 1001001010,        586]]),\n",
       "  array([[1011001001,        713,    1001100,         76,  110000011,\n",
       "                 387,    1001110,         78, 1010111111,        703],\n",
       "         [ 100100001,        289,  110101001,        425, 1001100111,\n",
       "                 615, 1000111011,        571, 1010101100,        684],\n",
       "         [  10101001,        169, 1110110110,        950, 1010000011,\n",
       "                 643,  100010001,        273, 1110000010,        898],\n",
       "         [ 101011111,        351, 1110011001,        921,  111110001,\n",
       "                 497,  100011010,        282, 1001001010,        586]])],\n",
       " [array([[1011001001,        713,    1001100,         76,  110000011,\n",
       "                 387,    1001110,         78, 1010111111,        703],\n",
       "         [ 100100001,        289,  110101001,        425, 1001100111,\n",
       "                 615, 1000111011,        571, 1010101100,        684],\n",
       "         [  10101001,        169, 1110110110,        950, 1010000011,\n",
       "                 643,  100010001,        273, 1110000010,        898],\n",
       "         [ 101011111,        351, 1110011001,        921,  111110001,\n",
       "                 497,  100011010,        282, 1001001010,        586]]),\n",
       "  array([[1011001001,        713,    1001100,         76,  110000011,\n",
       "                 387,    1001110,         78, 1010111111,        703],\n",
       "         [ 100100001,        289,  110101001,        425, 1001100111,\n",
       "                 615, 1000111011,        571, 1010101100,        684],\n",
       "         [  10101001,        169, 1110110110,        950, 1010000011,\n",
       "                 643,  100010001,        273, 1110000010,        898],\n",
       "         [ 101011111,        351, 1110011001,        921,  111110001,\n",
       "                 497,  100011010,        282, 1001001010,        586]]),\n",
       "  array([[1011001001,        713,    1001100,         76],\n",
       "         [ 110000011,        387,    1001110,         78],\n",
       "         [1010111111,        703,  100100001,        289],\n",
       "         [ 110101001,        425, 1001100111,        615],\n",
       "         [1000111011,        571, 1010101100,        684],\n",
       "         [  10101001,        169, 1110110110,        950],\n",
       "         [1010000011,        643,  100010001,        273],\n",
       "         [1110000010,        898,  101011111,        351],\n",
       "         [1110011001,        921,  111110001,        497],\n",
       "         [ 100011010,        282, 1001001010,        586]]),\n",
       "  array([[1011001001,        713,    1001100,         76],\n",
       "         [ 110000011,        387,    1001110,         78],\n",
       "         [1010111111,        703,  100100001,        289],\n",
       "         [ 110101001,        425, 1001100111,        615],\n",
       "         [1000111011,        571, 1010101100,        684],\n",
       "         [  10101001,        169, 1110110110,        950],\n",
       "         [1010000011,        643,  100010001,        273],\n",
       "         [1110000010,        898,  101011111,        351],\n",
       "         [1110011001,        921,  111110001,        497],\n",
       "         [ 100011010,        282, 1001001010,        586]])],\n",
       " [array([[1011001001,        713,    1001100,         76],\n",
       "         [ 110000011,        387,    1001110,         78],\n",
       "         [1010111111,        703,  100100001,        289],\n",
       "         [ 110101001,        425, 1001100111,        615],\n",
       "         [1000111011,        571, 1010101100,        684],\n",
       "         [  10101001,        169, 1110110110,        950],\n",
       "         [1010000011,        643,  100010001,        273],\n",
       "         [1110000010,        898,  101011111,        351],\n",
       "         [1110011001,        921,  111110001,        497],\n",
       "         [ 100011010,        282, 1001001010,        586]])]]"
      ]
     },
     "execution_count": 24,
     "metadata": {},
     "output_type": "execute_result"
    }
   ],
   "source": [
    "final_choice = []\n",
    "\n",
    "for x in [random.choice(range(1,5)) for x in range(1,5)]:\n",
    "    final_choice.append((choose(x)))\n",
    "\n",
    "final_choice"
   ]
  },
  {
   "cell_type": "markdown",
   "metadata": {},
   "source": [
    "---"
   ]
  },
  {
   "cell_type": "code",
   "execution_count": 25,
   "metadata": {
    "collapsed": false
   },
   "outputs": [],
   "source": [
    "from __future__ import division\n",
    "import numpy as np"
   ]
  }
 ],
 "metadata": {
  "kernelspec": {
   "display_name": "Python 2",
   "language": "python",
   "name": "python2"
  },
  "language_info": {
   "codemirror_mode": {
    "name": "ipython",
    "version": 2
   },
   "file_extension": ".py",
   "mimetype": "text/x-python",
   "name": "python",
   "nbconvert_exporter": "python",
   "pygments_lexer": "ipython2",
   "version": "2.7.11"
  }
 },
 "nbformat": 4,
 "nbformat_minor": 0
}
