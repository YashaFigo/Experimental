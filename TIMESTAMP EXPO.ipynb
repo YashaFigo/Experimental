{
 "cells": [
  {
   "cell_type": "code",
   "execution_count": 69,
   "metadata": {
    "collapsed": true
   },
   "outputs": [],
   "source": [
    "import datetime\n",
    "import time\n",
    "import random\n",
    "import radar\n",
    "from __future__ import division"
   ]
  },
  {
   "cell_type": "code",
   "execution_count": 7,
   "metadata": {
    "collapsed": false
   },
   "outputs": [
    {
     "data": {
      "text/plain": [
       "[1468191234.347488,\n",
       " 1468191236.349352,\n",
       " 1468191238.354073,\n",
       " 1468191240.35653,\n",
       " 1468191242.35993,\n",
       " 1468191244.362091,\n",
       " 1468191246.367038,\n",
       " 1468191248.370188,\n",
       " 1468191250.373841,\n",
       " 1468191252.376151]"
      ]
     },
     "execution_count": 7,
     "metadata": {},
     "output_type": "execute_result"
    }
   ],
   "source": [
    "def time_gen():\n",
    "    \n",
    "    time_list = []\n",
    "    \n",
    "    random.seed = 0\n",
    "    random_counter = random.choice(range(1,5))\n",
    "\n",
    "    \n",
    "    for x in range(10):\n",
    "        time_list.append(time.time())\n",
    "        time.sleep(random_counter)\n",
    "        random.seed += 1    \n",
    "    \n",
    "    return time_list\n",
    "\n",
    "\n",
    "time_stamps = time_gen()\n",
    "time_stamps"
   ]
  },
  {
   "cell_type": "code",
   "execution_count": 16,
   "metadata": {
    "collapsed": false
   },
   "outputs": [
    {
     "data": {
      "text/plain": [
       "[datetime.datetime(2016, 7, 10, 18, 53, 54, 347488),\n",
       " datetime.datetime(2016, 7, 10, 18, 53, 56, 349352),\n",
       " datetime.datetime(2016, 7, 10, 18, 53, 58, 354073),\n",
       " datetime.datetime(2016, 7, 10, 18, 54, 0, 356530),\n",
       " datetime.datetime(2016, 7, 10, 18, 54, 2, 359930),\n",
       " datetime.datetime(2016, 7, 10, 18, 54, 4, 362091),\n",
       " datetime.datetime(2016, 7, 10, 18, 54, 6, 367038),\n",
       " datetime.datetime(2016, 7, 10, 18, 54, 8, 370188),\n",
       " datetime.datetime(2016, 7, 10, 18, 54, 10, 373841),\n",
       " datetime.datetime(2016, 7, 10, 18, 54, 12, 376151)]"
      ]
     },
     "execution_count": 16,
     "metadata": {},
     "output_type": "execute_result"
    }
   ],
   "source": [
    "stamped_time = [datetime.datetime.fromtimestamp(x) for x in time_stamps]\n",
    "stamped_time"
   ]
  },
  {
   "cell_type": "markdown",
   "metadata": {},
   "source": [
    "---"
   ]
  },
  {
   "cell_type": "markdown",
   "metadata": {},
   "source": [
    "### CONVERTING TIME-DELTAS"
   ]
  },
  {
   "cell_type": "code",
   "execution_count": 31,
   "metadata": {
    "collapsed": false
   },
   "outputs": [
    {
     "name": "stdout",
     "output_type": "stream",
     "text": [
      "2\n",
      "2.001864\n"
     ]
    }
   ],
   "source": [
    "first_delta = stamped_time[1]-stamped_time[0]\n",
    "print(first_delta).seconds\n",
    "print(first_delta.total_seconds())"
   ]
  },
  {
   "cell_type": "markdown",
   "metadata": {},
   "source": [
    "---"
   ]
  },
  {
   "cell_type": "code",
   "execution_count": 50,
   "metadata": {
    "collapsed": true
   },
   "outputs": [],
   "source": [
    "#CONVERT THE FOLLOWING TIME STRINGS INTO DATETIME OBJECTS\n",
    "timestring1 = \"Monday, July 7 2016\"\n",
    "timestring2 = \"Mon, Jul 07, 16\"\n",
    "timestring3 = \"3:45 pm\"\n",
    "timestring4 = \"23:55:49\"\n",
    "timestring5 = \"05/04/2016\"\n",
    "timestring6 = \"5/4/16\""
   ]
  },
  {
   "cell_type": "code",
   "execution_count": 59,
   "metadata": {
    "collapsed": false
   },
   "outputs": [
    {
     "data": {
      "text/plain": [
       "datetime.datetime(2016, 7, 7, 0, 0)"
      ]
     },
     "execution_count": 59,
     "metadata": {},
     "output_type": "execute_result"
    }
   ],
   "source": [
    "datetime.datetime.strptime(timestring1,\"%A, %B %d %Y\")"
   ]
  },
  {
   "cell_type": "code",
   "execution_count": 61,
   "metadata": {
    "collapsed": false
   },
   "outputs": [
    {
     "data": {
      "text/plain": [
       "datetime.datetime(2016, 7, 7, 0, 0)"
      ]
     },
     "execution_count": 61,
     "metadata": {},
     "output_type": "execute_result"
    }
   ],
   "source": [
    "datetime.datetime.strptime(timestring2,\"%a, %b %d, %y\")"
   ]
  },
  {
   "cell_type": "code",
   "execution_count": 62,
   "metadata": {
    "collapsed": false
   },
   "outputs": [
    {
     "data": {
      "text/plain": [
       "datetime.datetime(1900, 1, 1, 15, 45)"
      ]
     },
     "execution_count": 62,
     "metadata": {},
     "output_type": "execute_result"
    }
   ],
   "source": [
    "datetime.datetime.strptime(timestring3,\"%I:%M %p\")"
   ]
  },
  {
   "cell_type": "code",
   "execution_count": 67,
   "metadata": {
    "collapsed": false
   },
   "outputs": [
    {
     "data": {
      "text/plain": [
       "datetime.datetime(1900, 1, 1, 23, 55, 49)"
      ]
     },
     "execution_count": 67,
     "metadata": {},
     "output_type": "execute_result"
    }
   ],
   "source": [
    "datetime.datetime.strptime(timestring4,\"%H:%M:%S\")"
   ]
  },
  {
   "cell_type": "code",
   "execution_count": 58,
   "metadata": {
    "collapsed": false
   },
   "outputs": [
    {
     "data": {
      "text/plain": [
       "datetime.datetime(2016, 5, 4, 0, 0)"
      ]
     },
     "execution_count": 58,
     "metadata": {},
     "output_type": "execute_result"
    }
   ],
   "source": [
    "datetime.datetime.strptime(timestring5,\"%m/%d/%Y\")"
   ]
  },
  {
   "cell_type": "code",
   "execution_count": 56,
   "metadata": {
    "collapsed": false
   },
   "outputs": [
    {
     "data": {
      "text/plain": [
       "datetime.datetime(2016, 5, 4, 0, 0)"
      ]
     },
     "execution_count": 56,
     "metadata": {},
     "output_type": "execute_result"
    }
   ],
   "source": [
    "datetime.datetime.strptime(timestring6,\"%m/%d/%y\")"
   ]
  },
  {
   "cell_type": "code",
   "execution_count": null,
   "metadata": {
    "collapsed": true
   },
   "outputs": [],
   "source": [
    "#ANSWERS:\n",
    "\n",
    "timestring1 = \"Monday, July 7 2016\"\n",
    "              \"%A,     %B   %d %Y\"\n",
    "\n",
    "timestring2 = \"Mon, Jul 07, 16\"\n",
    "              \"%a,  %b  %d, %y\"\n",
    "\n",
    "timestring3 = \"3:45 pm\"\n",
    "              \"%I:%M %p\"\n",
    "\n",
    "timestring4 = \"23:55:49\"\n",
    "              \"%H:%M:%S\"\n",
    "\n",
    "timestring5 = \"05/04/2016\"\n",
    "              \"%m/%d/%Y\"\n",
    "\n",
    "timestring6 = \"5/4/16\"\n",
    "              \"%m/%d/%y\""
   ]
  },
  {
   "cell_type": "markdown",
   "metadata": {},
   "source": [
    "---"
   ]
  },
  {
   "cell_type": "code",
   "execution_count": 78,
   "metadata": {
    "collapsed": false
   },
   "outputs": [
    {
     "data": {
      "text/plain": [
       "datetime.datetime(2016, 7, 10, 23, 54, 33)"
      ]
     },
     "execution_count": 78,
     "metadata": {},
     "output_type": "execute_result"
    }
   ],
   "source": [
    "import radar\n",
    "radar.random_datetime(start = \"2015:01:01T01:00:00\",\n",
    "                      stop = \"2015:12:31T23:59:59\")"
   ]
  },
  {
   "cell_type": "markdown",
   "metadata": {},
   "source": [
    "---"
   ]
  }
 ],
 "metadata": {
  "kernelspec": {
   "display_name": "Python 2",
   "language": "python",
   "name": "python2"
  },
  "language_info": {
   "codemirror_mode": {
    "name": "ipython",
    "version": 2
   },
   "file_extension": ".py",
   "mimetype": "text/x-python",
   "name": "python",
   "nbconvert_exporter": "python",
   "pygments_lexer": "ipython2",
   "version": "2.7.11"
  }
 },
 "nbformat": 4,
 "nbformat_minor": 0
}
