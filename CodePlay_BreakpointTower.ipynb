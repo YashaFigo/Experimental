{
 "cells": [
  {
   "cell_type": "markdown",
   "metadata": {},
   "source": [
    "# CODEPLAY: Breakpoint Tower"
   ]
  },
  {
   "cell_type": "markdown",
   "metadata": {},
   "source": [
    "<b> Build a number splitter device that cycles through all number splits from 1 to 10, then cycles back to the beginning"
   ]
  },
  {
   "cell_type": "code",
   "execution_count": 362,
   "metadata": {
    "collapsed": false
   },
   "outputs": [
    {
     "data": {
      "text/plain": [
       "[(1, 9),\n",
       " (2, 8),\n",
       " (3, 7),\n",
       " (4, 6),\n",
       " (5, 5),\n",
       " (6, 4),\n",
       " (7, 3),\n",
       " (8, 2),\n",
       " (9, 1),\n",
       " (8, 2),\n",
       " (7, 3),\n",
       " (6, 4),\n",
       " (5, 5),\n",
       " (4, 6),\n",
       " (3, 7),\n",
       " (2, 8),\n",
       " (1, 9)]"
      ]
     },
     "execution_count": 362,
     "metadata": {},
     "output_type": "execute_result"
    }
   ],
   "source": [
    "tower_matrix = []\n",
    "\n",
    "ranger = range(1,10)\n",
    "for x in ranger:\n",
    "    tower_matrix.append((x,10-x))\n",
    "for y in ranger[:8][::-1]:\n",
    "    tower_matrix.append((y,10-y))\n",
    "\n",
    "tower_matrix"
   ]
  },
  {
   "cell_type": "markdown",
   "metadata": {},
   "source": [
    "#### Now, lets create the breakpoint tower with x and y symbols:"
   ]
  },
  {
   "cell_type": "code",
   "execution_count": 524,
   "metadata": {
    "collapsed": false
   },
   "outputs": [
    {
     "data": {
      "text/plain": [
       "[['xyyyyyyyyy'],\n",
       " ['xxyyyyyyyy'],\n",
       " ['xxxyyyyyyy'],\n",
       " ['xxxxyyyyyy'],\n",
       " ['xxxxxyyyyy'],\n",
       " ['xxxxxxyyyy'],\n",
       " ['xxxxxxxyyy'],\n",
       " ['xxxxxxxxyy'],\n",
       " ['xxxxxxxxxy'],\n",
       " ['xxxxxxxxyy'],\n",
       " ['xxxxxxxyyy'],\n",
       " ['xxxxxxyyyy'],\n",
       " ['xxxxxyyyyy'],\n",
       " ['xxxxyyyyyy'],\n",
       " ['xxxyyyyyyy'],\n",
       " ['xxyyyyyyyy'],\n",
       " ['xyyyyyyyyy']]"
      ]
     },
     "execution_count": 524,
     "metadata": {},
     "output_type": "execute_result"
    }
   ],
   "source": [
    "breakpoint_tower = []\n",
    "\n",
    "for x in tower_matrix:\n",
    "    breakpoint_tower.append([x[0]*\"x\"+x[1]*\"y\"])\n",
    "\n",
    "breakpoint_tower"
   ]
  },
  {
   "cell_type": "markdown",
   "metadata": {},
   "source": [
    "---"
   ]
  },
  {
   "cell_type": "markdown",
   "metadata": {},
   "source": [
    "#### Open this up like a sardine can and get to the meat inside:"
   ]
  },
  {
   "cell_type": "code",
   "execution_count": 535,
   "metadata": {
    "collapsed": false
   },
   "outputs": [
    {
     "name": "stdout",
     "output_type": "stream",
     "text": [
      "xyyyyyyyyy\n",
      "xxyyyyyyyy\n",
      "xxxyyyyyyy\n",
      "xxxxyyyyyy\n",
      "xxxxxyyyyy\n",
      "xxxxxxyyyy\n",
      "xxxxxxxyyy\n",
      "xxxxxxxxyy\n",
      "xxxxxxxxxy\n",
      "xxxxxxxxyy\n",
      "xxxxxxxyyy\n",
      "xxxxxxyyyy\n",
      "xxxxxyyyyy\n",
      "xxxxyyyyyy\n",
      "xxxyyyyyyy\n",
      "xxyyyyyyyy\n",
      "xyyyyyyyyy\n"
     ]
    }
   ],
   "source": [
    "for x in breakpoint_tower: print(x[0])"
   ]
  },
  {
   "cell_type": "markdown",
   "metadata": {},
   "source": [
    "---"
   ]
  },
  {
   "cell_type": "markdown",
   "metadata": {},
   "source": [
    "#### Tower Parameters Codex:"
   ]
  },
  {
   "cell_type": "code",
   "execution_count": 526,
   "metadata": {
    "collapsed": false
   },
   "outputs": [
    {
     "data": {
      "text/plain": [
       "'xyyyyyyyyy'"
      ]
     },
     "execution_count": 526,
     "metadata": {},
     "output_type": "execute_result"
    }
   ],
   "source": [
    "breakpoint_tower[0][0]"
   ]
  },
  {
   "cell_type": "code",
   "execution_count": 527,
   "metadata": {
    "collapsed": false
   },
   "outputs": [
    {
     "data": {
      "text/plain": [
       "10"
      ]
     },
     "execution_count": 527,
     "metadata": {},
     "output_type": "execute_result"
    }
   ],
   "source": [
    "row_length = len(breakpoint_tower[0][0])\n",
    "row_length"
   ]
  },
  {
   "cell_type": "code",
   "execution_count": 528,
   "metadata": {
    "collapsed": false
   },
   "outputs": [
    {
     "data": {
      "text/plain": [
       "17"
      ]
     },
     "execution_count": 528,
     "metadata": {},
     "output_type": "execute_result"
    }
   ],
   "source": [
    "tower_length = len(breakpoint_tower)\n",
    "tower_length"
   ]
  },
  {
   "cell_type": "markdown",
   "metadata": {},
   "source": [
    "---"
   ]
  },
  {
   "cell_type": "markdown",
   "metadata": {},
   "source": [
    "#### Lets rotate this thang onto its side:"
   ]
  },
  {
   "cell_type": "code",
   "execution_count": 530,
   "metadata": {
    "collapsed": false
   },
   "outputs": [
    {
     "data": {
      "text/plain": [
       "[['xxxxxxxxxxxxxxxxx'],\n",
       " ['yxxxxxxxxxxxxxxxy'],\n",
       " ['yyxxxxxxxxxxxxxyy'],\n",
       " ['yyyxxxxxxxxxxxyyy'],\n",
       " ['yyyyxxxxxxxxxyyyy'],\n",
       " ['yyyyyxxxxxxxyyyyy'],\n",
       " ['yyyyyyxxxxxyyyyyy'],\n",
       " ['yyyyyyyxxxyyyyyyy'],\n",
       " ['yyyyyyyyxyyyyyyyy'],\n",
       " ['yyyyyyyyyyyyyyyyy']]"
      ]
     },
     "execution_count": 530,
     "metadata": {},
     "output_type": "execute_result"
    }
   ],
   "source": [
    "turnt_tower = []\n",
    "\n",
    "for column in range(row_length):\n",
    "    turnt_row = []\n",
    "    for row in range(tower_length):\n",
    "        turnt_row.append(breakpoint_tower[row][0][column])\n",
    "    turnt_tower.append([\"\".join([x for x in turnt_row])])\n",
    "\n",
    "turnt_tower"
   ]
  },
  {
   "cell_type": "markdown",
   "metadata": {},
   "source": [
    "#### Open up ze sardine can:"
   ]
  },
  {
   "cell_type": "code",
   "execution_count": 534,
   "metadata": {
    "collapsed": false
   },
   "outputs": [
    {
     "name": "stdout",
     "output_type": "stream",
     "text": [
      "xxxxxxxxxxxxxxxxx\n",
      "yxxxxxxxxxxxxxxxy\n",
      "yyxxxxxxxxxxxxxyy\n",
      "yyyxxxxxxxxxxxyyy\n",
      "yyyyxxxxxxxxxyyyy\n",
      "yyyyyxxxxxxxyyyyy\n",
      "yyyyyyxxxxxyyyyyy\n",
      "yyyyyyyxxxyyyyyyy\n",
      "yyyyyyyyxyyyyyyyy\n",
      "yyyyyyyyyyyyyyyyy\n"
     ]
    }
   ],
   "source": [
    "for x in turnt_tower: print(x[0])"
   ]
  },
  {
   "cell_type": "markdown",
   "metadata": {},
   "source": [
    "----"
   ]
  },
  {
   "cell_type": "markdown",
   "metadata": {},
   "source": [
    "#### Here are the two compared, so the fall and squish can be seen:"
   ]
  },
  {
   "cell_type": "code",
   "execution_count": 536,
   "metadata": {
    "collapsed": false
   },
   "outputs": [
    {
     "name": "stdout",
     "output_type": "stream",
     "text": [
      "xyyyyyyyyy\n",
      "xxyyyyyyyy\n",
      "xxxyyyyyyy\n",
      "xxxxyyyyyy\n",
      "xxxxxyyyyy\n",
      "xxxxxxyyyy\n",
      "xxxxxxxyyy\n",
      "xxxxxxxxyy\n",
      "xxxxxxxxxy\n",
      "xxxxxxxxyy\n",
      "xxxxxxxyyy\n",
      "xxxxxxyyyy\n",
      "xxxxxyyyyy\n",
      "xxxxyyyyyy\n",
      "xxxyyyyyyy\n",
      "xxyyyyyyyy\n",
      "xyyyyyyyyy\n"
     ]
    }
   ],
   "source": [
    "for x in breakpoint_tower: print(x[0])"
   ]
  },
  {
   "cell_type": "code",
   "execution_count": 537,
   "metadata": {
    "collapsed": false
   },
   "outputs": [
    {
     "name": "stdout",
     "output_type": "stream",
     "text": [
      "xxxxxxxxxxxxxxxxx\n",
      "yxxxxxxxxxxxxxxxy\n",
      "yyxxxxxxxxxxxxxyy\n",
      "yyyxxxxxxxxxxxyyy\n",
      "yyyyxxxxxxxxxyyyy\n",
      "yyyyyxxxxxxxyyyyy\n",
      "yyyyyyxxxxxyyyyyy\n",
      "yyyyyyyxxxyyyyyyy\n",
      "yyyyyyyyxyyyyyyyy\n",
      "yyyyyyyyyyyyyyyyy\n"
     ]
    }
   ],
   "source": [
    "for x in turnt_tower: print(x[0])"
   ]
  },
  {
   "cell_type": "markdown",
   "metadata": {},
   "source": [
    "---"
   ]
  },
  {
   "cell_type": "markdown",
   "metadata": {},
   "source": [
    "## CODE PLAY: Generate a variable length multiplication table via a function"
   ]
  },
  {
   "cell_type": "code",
   "execution_count": 539,
   "metadata": {
    "collapsed": false
   },
   "outputs": [
    {
     "data": {
      "text/html": [
       "<div>\n",
       "<table border=\"1\" class=\"dataframe\">\n",
       "  <thead>\n",
       "    <tr style=\"text-align: right;\">\n",
       "      <th></th>\n",
       "      <th>1</th>\n",
       "      <th>2</th>\n",
       "      <th>3</th>\n",
       "      <th>4</th>\n",
       "      <th>5</th>\n",
       "      <th>6</th>\n",
       "      <th>7</th>\n",
       "      <th>8</th>\n",
       "      <th>9</th>\n",
       "      <th>10</th>\n",
       "      <th>11</th>\n",
       "      <th>12</th>\n",
       "    </tr>\n",
       "  </thead>\n",
       "  <tbody>\n",
       "    <tr>\n",
       "      <th>1</th>\n",
       "      <td>1</td>\n",
       "      <td>2</td>\n",
       "      <td>3</td>\n",
       "      <td>4</td>\n",
       "      <td>5</td>\n",
       "      <td>6</td>\n",
       "      <td>7</td>\n",
       "      <td>8</td>\n",
       "      <td>9</td>\n",
       "      <td>10</td>\n",
       "      <td>11</td>\n",
       "      <td>12</td>\n",
       "    </tr>\n",
       "    <tr>\n",
       "      <th>2</th>\n",
       "      <td>2</td>\n",
       "      <td>4</td>\n",
       "      <td>6</td>\n",
       "      <td>8</td>\n",
       "      <td>10</td>\n",
       "      <td>12</td>\n",
       "      <td>14</td>\n",
       "      <td>16</td>\n",
       "      <td>18</td>\n",
       "      <td>20</td>\n",
       "      <td>22</td>\n",
       "      <td>24</td>\n",
       "    </tr>\n",
       "    <tr>\n",
       "      <th>3</th>\n",
       "      <td>3</td>\n",
       "      <td>6</td>\n",
       "      <td>9</td>\n",
       "      <td>12</td>\n",
       "      <td>15</td>\n",
       "      <td>18</td>\n",
       "      <td>21</td>\n",
       "      <td>24</td>\n",
       "      <td>27</td>\n",
       "      <td>30</td>\n",
       "      <td>33</td>\n",
       "      <td>36</td>\n",
       "    </tr>\n",
       "    <tr>\n",
       "      <th>4</th>\n",
       "      <td>4</td>\n",
       "      <td>8</td>\n",
       "      <td>12</td>\n",
       "      <td>16</td>\n",
       "      <td>20</td>\n",
       "      <td>24</td>\n",
       "      <td>28</td>\n",
       "      <td>32</td>\n",
       "      <td>36</td>\n",
       "      <td>40</td>\n",
       "      <td>44</td>\n",
       "      <td>48</td>\n",
       "    </tr>\n",
       "    <tr>\n",
       "      <th>5</th>\n",
       "      <td>5</td>\n",
       "      <td>10</td>\n",
       "      <td>15</td>\n",
       "      <td>20</td>\n",
       "      <td>25</td>\n",
       "      <td>30</td>\n",
       "      <td>35</td>\n",
       "      <td>40</td>\n",
       "      <td>45</td>\n",
       "      <td>50</td>\n",
       "      <td>55</td>\n",
       "      <td>60</td>\n",
       "    </tr>\n",
       "    <tr>\n",
       "      <th>6</th>\n",
       "      <td>6</td>\n",
       "      <td>12</td>\n",
       "      <td>18</td>\n",
       "      <td>24</td>\n",
       "      <td>30</td>\n",
       "      <td>36</td>\n",
       "      <td>42</td>\n",
       "      <td>48</td>\n",
       "      <td>54</td>\n",
       "      <td>60</td>\n",
       "      <td>66</td>\n",
       "      <td>72</td>\n",
       "    </tr>\n",
       "    <tr>\n",
       "      <th>7</th>\n",
       "      <td>7</td>\n",
       "      <td>14</td>\n",
       "      <td>21</td>\n",
       "      <td>28</td>\n",
       "      <td>35</td>\n",
       "      <td>42</td>\n",
       "      <td>49</td>\n",
       "      <td>56</td>\n",
       "      <td>63</td>\n",
       "      <td>70</td>\n",
       "      <td>77</td>\n",
       "      <td>84</td>\n",
       "    </tr>\n",
       "    <tr>\n",
       "      <th>8</th>\n",
       "      <td>8</td>\n",
       "      <td>16</td>\n",
       "      <td>24</td>\n",
       "      <td>32</td>\n",
       "      <td>40</td>\n",
       "      <td>48</td>\n",
       "      <td>56</td>\n",
       "      <td>64</td>\n",
       "      <td>72</td>\n",
       "      <td>80</td>\n",
       "      <td>88</td>\n",
       "      <td>96</td>\n",
       "    </tr>\n",
       "    <tr>\n",
       "      <th>9</th>\n",
       "      <td>9</td>\n",
       "      <td>18</td>\n",
       "      <td>27</td>\n",
       "      <td>36</td>\n",
       "      <td>45</td>\n",
       "      <td>54</td>\n",
       "      <td>63</td>\n",
       "      <td>72</td>\n",
       "      <td>81</td>\n",
       "      <td>90</td>\n",
       "      <td>99</td>\n",
       "      <td>108</td>\n",
       "    </tr>\n",
       "    <tr>\n",
       "      <th>10</th>\n",
       "      <td>10</td>\n",
       "      <td>20</td>\n",
       "      <td>30</td>\n",
       "      <td>40</td>\n",
       "      <td>50</td>\n",
       "      <td>60</td>\n",
       "      <td>70</td>\n",
       "      <td>80</td>\n",
       "      <td>90</td>\n",
       "      <td>100</td>\n",
       "      <td>110</td>\n",
       "      <td>120</td>\n",
       "    </tr>\n",
       "    <tr>\n",
       "      <th>11</th>\n",
       "      <td>11</td>\n",
       "      <td>22</td>\n",
       "      <td>33</td>\n",
       "      <td>44</td>\n",
       "      <td>55</td>\n",
       "      <td>66</td>\n",
       "      <td>77</td>\n",
       "      <td>88</td>\n",
       "      <td>99</td>\n",
       "      <td>110</td>\n",
       "      <td>121</td>\n",
       "      <td>132</td>\n",
       "    </tr>\n",
       "    <tr>\n",
       "      <th>12</th>\n",
       "      <td>12</td>\n",
       "      <td>24</td>\n",
       "      <td>36</td>\n",
       "      <td>48</td>\n",
       "      <td>60</td>\n",
       "      <td>72</td>\n",
       "      <td>84</td>\n",
       "      <td>96</td>\n",
       "      <td>108</td>\n",
       "      <td>120</td>\n",
       "      <td>132</td>\n",
       "      <td>144</td>\n",
       "    </tr>\n",
       "  </tbody>\n",
       "</table>\n",
       "</div>"
      ],
      "text/plain": [
       "    1   2   3   4   5   6   7   8    9    10   11   12\n",
       "1    1   2   3   4   5   6   7   8    9   10   11   12\n",
       "2    2   4   6   8  10  12  14  16   18   20   22   24\n",
       "3    3   6   9  12  15  18  21  24   27   30   33   36\n",
       "4    4   8  12  16  20  24  28  32   36   40   44   48\n",
       "5    5  10  15  20  25  30  35  40   45   50   55   60\n",
       "6    6  12  18  24  30  36  42  48   54   60   66   72\n",
       "7    7  14  21  28  35  42  49  56   63   70   77   84\n",
       "8    8  16  24  32  40  48  56  64   72   80   88   96\n",
       "9    9  18  27  36  45  54  63  72   81   90   99  108\n",
       "10  10  20  30  40  50  60  70  80   90  100  110  120\n",
       "11  11  22  33  44  55  66  77  88   99  110  121  132\n",
       "12  12  24  36  48  60  72  84  96  108  120  132  144"
      ]
     },
     "execution_count": 539,
     "metadata": {},
     "output_type": "execute_result"
    }
   ],
   "source": [
    "def periodize(length):\n",
    "    \n",
    "    periodic_list = []\n",
    "    \n",
    "    range_of_matrix = range(1,length+1)\n",
    "    \n",
    "    for x in range_of_matrix:\n",
    "        periodic_list.append([ (x*y) for y in range_of_matrix] )\n",
    "    periodic_table.append(periodic_list)\n",
    "    \n",
    "    matrix = pd.DataFrame(periodic_list,columns=range_of_matrix)\n",
    "    matrix.index = range(1,length+1)\n",
    "\n",
    "    return matrix\n",
    "    \n",
    "ze_matrix = periodize(12)\n",
    "ze_matrix"
   ]
  },
  {
   "cell_type": "markdown",
   "metadata": {},
   "source": [
    "---"
   ]
  },
  {
   "cell_type": "markdown",
   "metadata": {},
   "source": [
    "# CODE PLAY: Prime Number Generator"
   ]
  },
  {
   "cell_type": "markdown",
   "metadata": {},
   "source": [
    ">A prime number is a number greater than 1 that's only divisible by itself "
   ]
  },
  {
   "cell_type": "code",
   "execution_count": 543,
   "metadata": {
    "collapsed": false
   },
   "outputs": [],
   "source": [
    "from __future__ import division"
   ]
  },
  {
   "cell_type": "code",
   "execution_count": 629,
   "metadata": {
    "collapsed": false
   },
   "outputs": [
    {
     "data": {
      "text/plain": [
       "'[2, 3, 5, 7, 11, 13, 17, 19, 23, 29, 31, 37, 41, 43, 47, 53, 59, 61, 67, 71, 73, 79, 83, 89, 97]'"
      ]
     },
     "execution_count": 629,
     "metadata": {},
     "output_type": "execute_result"
    }
   ],
   "source": [
    "primes = []\n",
    "\n",
    "for x in range(2,101):\n",
    "    counter = 0\n",
    "    for y in range(2,x+1):\n",
    "        if x % y == 0:\n",
    "            counter += 1\n",
    "    if counter < 2:\n",
    "        primes.append(x)\n",
    "\n",
    "\"\".join(str(primes))\n",
    "\n",
    "#BOOYAAAH!"
   ]
  },
  {
   "cell_type": "markdown",
   "metadata": {},
   "source": [
    "\n",
    "---"
   ]
  },
  {
   "cell_type": "markdown",
   "metadata": {},
   "source": [
    "---"
   ]
  },
  {
   "cell_type": "markdown",
   "metadata": {},
   "source": [
    "---"
   ]
  },
  {
   "cell_type": "markdown",
   "metadata": {},
   "source": [
    "---"
   ]
  },
  {
   "cell_type": "markdown",
   "metadata": {},
   "source": [
    "---"
   ]
  },
  {
   "cell_type": "markdown",
   "metadata": {},
   "source": [
    "---"
   ]
  },
  {
   "cell_type": "markdown",
   "metadata": {},
   "source": [
    "---"
   ]
  },
  {
   "cell_type": "markdown",
   "metadata": {},
   "source": [
    "---"
   ]
  },
  {
   "cell_type": "markdown",
   "metadata": {},
   "source": [
    "---"
   ]
  },
  {
   "cell_type": "markdown",
   "metadata": {},
   "source": [
    "---"
   ]
  },
  {
   "cell_type": "code",
   "execution_count": 550,
   "metadata": {
    "collapsed": false
   },
   "outputs": [
    {
     "data": {
      "text/plain": [
       "[4,\n",
       " 6,\n",
       " 8,\n",
       " 9,\n",
       " 10,\n",
       " 12,\n",
       " 14,\n",
       " 15,\n",
       " 16,\n",
       " 18,\n",
       " 20,\n",
       " 21,\n",
       " 22,\n",
       " 24,\n",
       " 25,\n",
       " 26,\n",
       " 27,\n",
       " 28,\n",
       " 30,\n",
       " 32,\n",
       " 33,\n",
       " 34,\n",
       " 35,\n",
       " 36,\n",
       " 38,\n",
       " 39,\n",
       " 40,\n",
       " 42,\n",
       " 44,\n",
       " 45,\n",
       " 46,\n",
       " 48,\n",
       " 49,\n",
       " 50,\n",
       " 51,\n",
       " 52,\n",
       " 54,\n",
       " 55,\n",
       " 56,\n",
       " 57,\n",
       " 58,\n",
       " 60,\n",
       " 62,\n",
       " 63,\n",
       " 64,\n",
       " 65,\n",
       " 66,\n",
       " 68,\n",
       " 69,\n",
       " 70,\n",
       " 72,\n",
       " 74,\n",
       " 75,\n",
       " 76,\n",
       " 77,\n",
       " 78,\n",
       " 80,\n",
       " 81,\n",
       " 82,\n",
       " 84,\n",
       " 85,\n",
       " 86,\n",
       " 87,\n",
       " 88,\n",
       " 90,\n",
       " 91,\n",
       " 92,\n",
       " 93,\n",
       " 94,\n",
       " 95,\n",
       " 96,\n",
       " 98,\n",
       " 99,\n",
       " 100]"
      ]
     },
     "execution_count": 550,
     "metadata": {},
     "output_type": "execute_result"
    }
   ],
   "source": [
    "primes = []\n",
    "\n",
    "for x in range(2,101):\n",
    "    up_to_range = range(2,x)\n",
    "    prime_counter = 0\n",
    "    for y in up_to_range:\n",
    "        if x % y == 0:\n",
    "            prime_counter += 1\n",
    "    if prime_counter > 0:\n",
    "        primes.append(x)\n",
    "\n",
    "primes"
   ]
  },
  {
   "cell_type": "code",
   "execution_count": null,
   "metadata": {
    "collapsed": true
   },
   "outputs": [],
   "source": []
  }
 ],
 "metadata": {
  "kernelspec": {
   "display_name": "Python 2",
   "language": "python",
   "name": "python2"
  },
  "language_info": {
   "codemirror_mode": {
    "name": "ipython",
    "version": 2
   },
   "file_extension": ".py",
   "mimetype": "text/x-python",
   "name": "python",
   "nbconvert_exporter": "python",
   "pygments_lexer": "ipython2",
   "version": "2.7.11"
  }
 },
 "nbformat": 4,
 "nbformat_minor": 0
}
