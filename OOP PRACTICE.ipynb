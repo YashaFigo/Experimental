{
 "cells": [
  {
   "cell_type": "code",
   "execution_count": 21,
   "metadata": {
    "collapsed": false
   },
   "outputs": [
    {
     "name": "stdout",
     "output_type": "stream",
     "text": [
      "/Users/Yasha/Desktop/COMP PROJECTS/CODE PLAY/OOP LAB\n",
      "OOP2.ipynb      Untitled.ipynb  nba copy.csv\r\n"
     ]
    }
   ],
   "source": [
    "%cd /Users/Yasha/DESKTop/\"COMP PROJECTS\"/\"CODE PLAY\"/\"OOP LAB\"/\n",
    "%ls"
   ]
  },
  {
   "cell_type": "code",
   "execution_count": 22,
   "metadata": {
    "collapsed": true
   },
   "outputs": [],
   "source": [
    "import csv\n",
    "import random\n",
    "import matplotlib.pyplot as plt\n",
    "%matplotlib inline"
   ]
  },
  {
   "cell_type": "code",
   "execution_count": 25,
   "metadata": {
    "collapsed": true
   },
   "outputs": [],
   "source": [
    "data = open(\"nba copy.csv\")\n",
    "csvreader = csv.reader(data)\n",
    "columns = list(csvreader)[0]\n",
    "\n",
    "data = open(\"nba copy.csv\")\n",
    "csvreader = csv.reader(data)\n",
    "data = list(csvreader)[1:]"
   ]
  },
  {
   "cell_type": "code",
   "execution_count": 28,
   "metadata": {
    "collapsed": false
   },
   "outputs": [
    {
     "data": {
      "text/plain": [
       "['player',\n",
       " 'pos',\n",
       " 'age',\n",
       " 'team',\n",
       " 'g',\n",
       " 'gs',\n",
       " 'mp',\n",
       " 'fg',\n",
       " 'fga',\n",
       " 'fg.',\n",
       " 'x3p',\n",
       " 'x3pa',\n",
       " 'x3p.',\n",
       " 'x2p',\n",
       " 'x2pa',\n",
       " 'x2p.',\n",
       " 'efg.',\n",
       " 'ft',\n",
       " 'fta',\n",
       " 'ft.',\n",
       " 'orb',\n",
       " 'drb',\n",
       " 'trb',\n",
       " 'ast',\n",
       " 'stl',\n",
       " 'blk',\n",
       " 'tov',\n",
       " 'pf',\n",
       " 'pts',\n",
       " 'season',\n",
       " 'season_end']"
      ]
     },
     "execution_count": 28,
     "metadata": {},
     "output_type": "execute_result"
    }
   ],
   "source": [
    "columns"
   ]
  },
  {
   "cell_type": "code",
   "execution_count": 55,
   "metadata": {
    "collapsed": false
   },
   "outputs": [
    {
     "data": {
      "text/plain": [
       "2"
      ]
     },
     "execution_count": 55,
     "metadata": {},
     "output_type": "execute_result"
    }
   ],
   "source": [
    "factor = random.choice([1,2])"
   ]
  },
  {
   "cell_type": "code",
   "execution_count": 81,
   "metadata": {
    "collapsed": false
   },
   "outputs": [
    {
     "data": {
      "text/plain": [
       "[<matplotlib.lines.Line2D at 0x108d78a50>]"
      ]
     },
     "execution_count": 81,
     "metadata": {},
     "output_type": "execute_result"
    },
    {
     "data": {
      "image/png": "[encoded data removed]",
      "text/plain": [
       "<matplotlib.figure.Figure at 0x10894fc10>"
      ]
     },
     "metadata": {},
     "output_type": "display_data"
    }
   ],
   "source": [
    "def multiplier():\n",
    "    factor = random.choice([1,1.5,2])\n",
    "    base = random.choice([1,1.5,2])\n",
    "    multiplier = base * factor\n",
    "    return multiplier\n",
    "\n",
    "plotlist = [multiplier() for x in range(100)]\n",
    "plt.plot([x for x,y in enumerate(plotlist)],[x for x in plotlist])"
   ]
  },
  {
   "cell_type": "markdown",
   "metadata": {},
   "source": [
    "---"
   ]
  },
  {
   "cell_type": "code",
   "execution_count": 101,
   "metadata": {
    "collapsed": false
   },
   "outputs": [
    {
     "data": {
      "text/plain": [
       "[(1, 2), (1.5, 27), (2, 29), (2.25, 9), (3.0, 20), (4, 13)]"
      ]
     },
     "execution_count": 101,
     "metadata": {},
     "output_type": "execute_result"
    }
   ],
   "source": [
    "x_hist = [x for x in set(plotlist)]\n",
    "x_hist.sort()\n",
    "\n",
    "def pull_together():\n",
    "    \n",
    "    frequency = []\n",
    "    \n",
    "    for x in x_hist:\n",
    "        counter = 0\n",
    "        for y in plotlist:\n",
    "            if x == y: \n",
    "                counter += 1\n",
    "        frequency.append(counter)\n",
    "                \n",
    "    return frequency\n",
    "\n",
    "y_hist = pull_together()\n",
    "\n",
    "zippah = zip(x_hist,y_hist)\n",
    "zippah"
   ]
  },
  {
   "cell_type": "code",
   "execution_count": 118,
   "metadata": {
    "collapsed": false
   },
   "outputs": [],
   "source": [
    "x_val = [x[0] for x in zippah]"
   ]
  },
  {
   "cell_type": "code",
   "execution_count": 119,
   "metadata": {
    "collapsed": false
   },
   "outputs": [],
   "source": [
    "y_val = [x[1] for x in zippah]"
   ]
  },
  {
   "cell_type": "code",
   "execution_count": 140,
   "metadata": {
    "collapsed": false
   },
   "outputs": [
    {
     "data": {
      "text/plain": [
       "<Container object of 6 artists>"
      ]
     },
     "execution_count": 140,
     "metadata": {},
     "output_type": "execute_result"
    },
    {
     "data": {
      "image/png": "[encoded data removed]",
      "text/plain": [
       "<matplotlib.figure.Figure at 0x10b03f1d0>"
      ]
     },
     "metadata": {},
     "output_type": "display_data"
    }
   ],
   "source": [
    "#plt.plot(x_val,y_val,color='b')\n",
    "plt.xticks(x_val)\n",
    "plt.bar(x_val,y_val,width=.1,align='center',color='r')"
   ]
  },
  {
   "cell_type": "code",
   "execution_count": null,
   "metadata": {
    "collapsed": true
   },
   "outputs": [],
   "source": [
    "import numpy as np\n"
   ]
  },
  {
   "cell_type": "markdown",
   "metadata": {},
   "source": [
    "---"
   ]
  },
  {
   "cell_type": "markdown",
   "metadata": {},
   "source": [
    "---"
   ]
  },
  {
   "cell_type": "markdown",
   "metadata": {},
   "source": [
    "---"
   ]
  },
  {
   "cell_type": "markdown",
   "metadata": {},
   "source": [
    "---"
   ]
  },
  {
   "cell_type": "markdown",
   "metadata": {},
   "source": [
    "---"
   ]
  },
  {
   "cell_type": "markdown",
   "metadata": {},
   "source": [
    "---"
   ]
  },
  {
   "cell_type": "code",
   "execution_count": 43,
   "metadata": {
    "collapsed": false
   },
   "outputs": [],
   "source": [
    "class Player():\n",
    "    def __init__(self,row):\n",
    "        self.player = row[0]\n",
    "        self.age = row[2]\n",
    "        self.offense = \n",
    "        self.defense = "
   ]
  },
  {
   "cell_type": "code",
   "execution_count": 44,
   "metadata": {
    "collapsed": false
   },
   "outputs": [
    {
     "name": "stdout",
     "output_type": "stream",
     "text": [
      "Quincy Acy\n",
      "23\n"
     ]
    }
   ],
   "source": [
    "playa1 = Player(data[0])  \n",
    "print(playa1.player)\n",
    "print(playa1.age)"
   ]
  },
  {
   "cell_type": "code",
   "execution_count": 45,
   "metadata": {
    "collapsed": false
   },
   "outputs": [
    {
     "name": "stdout",
     "output_type": "stream",
     "text": [
      "Steven Adams\n",
      "20\n"
     ]
    }
   ],
   "source": [
    "playa2 = Player(data[1])\n",
    "print(playa2.player)\n",
    "print(playa2.age)"
   ]
  },
  {
   "cell_type": "markdown",
   "metadata": {},
   "source": [
    "---"
   ]
  },
  {
   "cell_type": "markdown",
   "metadata": {},
   "source": [
    "---"
   ]
  },
  {
   "cell_type": "markdown",
   "metadata": {},
   "source": [
    "---"
   ]
  },
  {
   "cell_type": "markdown",
   "metadata": {},
   "source": [
    "---"
   ]
  },
  {
   "cell_type": "markdown",
   "metadata": {},
   "source": [
    "---"
   ]
  },
  {
   "cell_type": "markdown",
   "metadata": {},
   "source": [
    "---"
   ]
  },
  {
   "cell_type": "markdown",
   "metadata": {},
   "source": [
    "---"
   ]
  },
  {
   "cell_type": "markdown",
   "metadata": {},
   "source": [
    "----"
   ]
  }
 ],
 "metadata": {
  "kernelspec": {
   "display_name": "Python 2",
   "language": "python",
   "name": "python2"
  },
  "language_info": {
   "codemirror_mode": {
    "name": "ipython",
    "version": 2
   },
   "file_extension": ".py",
   "mimetype": "text/x-python",
   "name": "python",
   "nbconvert_exporter": "python",
   "pygments_lexer": "ipython2",
   "version": "2.7.11"
  }
 },
 "nbformat": 4,
 "nbformat_minor": 0
}
