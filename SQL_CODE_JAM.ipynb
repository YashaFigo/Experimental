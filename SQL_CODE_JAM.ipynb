{
 "cells": [
  {
   "cell_type": "markdown",
   "metadata": {},
   "source": [
    "### <p style=\"text-align: center;\">HEADER BITS:</p>"
   ]
  },
  {
   "cell_type": "code",
   "execution_count": 3,
   "metadata": {
    "collapsed": false
   },
   "outputs": [
    {
     "name": "stdout",
     "output_type": "stream",
     "text": [
      "LAyer 1.ipynb            academy_awards_multi.db  jobs.db\r\n",
      "Untitled.ipynb           factbook.db              nominations.db\r\n"
     ]
    },
    {
     "data": {
      "text/plain": [
       "u'/Users/Yasha/Desktop/DATASETS/SQLITE3 DBS/RANDOM PRACTICE'"
      ]
     },
     "execution_count": 3,
     "metadata": {},
     "output_type": "execute_result"
    }
   ],
   "source": [
    "%ls\n",
    "%pwd"
   ]
  },
  {
   "cell_type": "code",
   "execution_count": null,
   "metadata": {
    "collapsed": true
   },
   "outputs": [],
   "source": [
    "import pandas as pd\n",
    "import sqlite3"
   ]
  },
  {
   "cell_type": "markdown",
   "metadata": {},
   "source": [
    "---"
   ]
  },
  {
   "cell_type": "markdown",
   "metadata": {},
   "source": [
    "### <p style=\"text-align: center;\"> DB SCHEMA EXPO:</p>"
   ]
  },
  {
   "cell_type": "code",
   "execution_count": 4,
   "metadata": {
    "collapsed": true
   },
   "outputs": [],
   "source": [
    "conn_factbook = sqlite3.connect('factbook.db')\n",
    "conn_nominations = sqlite3.connect('nominations.db')\n",
    "conn_awards = sqlite3.connect('academy_awards_multi.db ')\n",
    "conn_jobs = sqlite3.connect('jobs.db')"
   ]
  },
  {
   "cell_type": "code",
   "execution_count": 6,
   "metadata": {
    "collapsed": false
   },
   "outputs": [
    {
     "data": {
      "text/html": [
       "<div>\n",
       "<table border=\"1\" class=\"dataframe\">\n",
       "  <thead>\n",
       "    <tr style=\"text-align: right;\">\n",
       "      <th></th>\n",
       "      <th>name</th>\n",
       "    </tr>\n",
       "  </thead>\n",
       "  <tbody>\n",
       "    <tr>\n",
       "      <th>0</th>\n",
       "      <td>recent_grads</td>\n",
       "    </tr>\n",
       "    <tr>\n",
       "      <th>1</th>\n",
       "      <td>ix_recent_grads_index</td>\n",
       "    </tr>\n",
       "  </tbody>\n",
       "</table>\n",
       "</div>"
      ],
      "text/plain": [
       "                    name\n",
       "0           recent_grads\n",
       "1  ix_recent_grads_index"
      ]
     },
     "execution_count": 6,
     "metadata": {},
     "output_type": "execute_result"
    }
   ],
   "source": [
    "query = '''\n",
    "SELECT name FROM sqlite_master\n",
    "'''\n",
    "pd.read_sql(query,conn_jobs)"
   ]
  },
  {
   "cell_type": "code",
   "execution_count": 12,
   "metadata": {
    "collapsed": false
   },
   "outputs": [
    {
     "data": {
      "text/html": [
       "<div>\n",
       "<table border=\"1\" class=\"dataframe\">\n",
       "  <thead>\n",
       "    <tr style=\"text-align: right;\">\n",
       "      <th></th>\n",
       "      <th>name</th>\n",
       "      <th>type</th>\n",
       "    </tr>\n",
       "  </thead>\n",
       "  <tbody>\n",
       "    <tr>\n",
       "      <th>0</th>\n",
       "      <td>index</td>\n",
       "      <td>INTEGER</td>\n",
       "    </tr>\n",
       "    <tr>\n",
       "      <th>1</th>\n",
       "      <td>Rank</td>\n",
       "      <td>INTEGER</td>\n",
       "    </tr>\n",
       "    <tr>\n",
       "      <th>2</th>\n",
       "      <td>Major_code</td>\n",
       "      <td>INTEGER</td>\n",
       "    </tr>\n",
       "    <tr>\n",
       "      <th>3</th>\n",
       "      <td>Major</td>\n",
       "      <td>TEXT</td>\n",
       "    </tr>\n",
       "    <tr>\n",
       "      <th>4</th>\n",
       "      <td>Major_category</td>\n",
       "      <td>TEXT</td>\n",
       "    </tr>\n",
       "    <tr>\n",
       "      <th>5</th>\n",
       "      <td>Total</td>\n",
       "      <td>INTEGER</td>\n",
       "    </tr>\n",
       "    <tr>\n",
       "      <th>6</th>\n",
       "      <td>Sample_size</td>\n",
       "      <td>INTEGER</td>\n",
       "    </tr>\n",
       "    <tr>\n",
       "      <th>7</th>\n",
       "      <td>Men</td>\n",
       "      <td>INTEGER</td>\n",
       "    </tr>\n",
       "    <tr>\n",
       "      <th>8</th>\n",
       "      <td>Women</td>\n",
       "      <td>INTEGER</td>\n",
       "    </tr>\n",
       "    <tr>\n",
       "      <th>9</th>\n",
       "      <td>ShareWomen</td>\n",
       "      <td>REAL</td>\n",
       "    </tr>\n",
       "    <tr>\n",
       "      <th>10</th>\n",
       "      <td>Employed</td>\n",
       "      <td>INTEGER</td>\n",
       "    </tr>\n",
       "    <tr>\n",
       "      <th>11</th>\n",
       "      <td>Full_time</td>\n",
       "      <td>INTEGER</td>\n",
       "    </tr>\n",
       "    <tr>\n",
       "      <th>12</th>\n",
       "      <td>Part_time</td>\n",
       "      <td>INTEGER</td>\n",
       "    </tr>\n",
       "    <tr>\n",
       "      <th>13</th>\n",
       "      <td>Full_time_year_round</td>\n",
       "      <td>INTEGER</td>\n",
       "    </tr>\n",
       "    <tr>\n",
       "      <th>14</th>\n",
       "      <td>Unemployed</td>\n",
       "      <td>INTEGER</td>\n",
       "    </tr>\n",
       "    <tr>\n",
       "      <th>15</th>\n",
       "      <td>Unemployment_rate</td>\n",
       "      <td>REAL</td>\n",
       "    </tr>\n",
       "    <tr>\n",
       "      <th>16</th>\n",
       "      <td>Median</td>\n",
       "      <td>INTEGER</td>\n",
       "    </tr>\n",
       "    <tr>\n",
       "      <th>17</th>\n",
       "      <td>P25th</td>\n",
       "      <td>INTEGER</td>\n",
       "    </tr>\n",
       "    <tr>\n",
       "      <th>18</th>\n",
       "      <td>P75th</td>\n",
       "      <td>INTEGER</td>\n",
       "    </tr>\n",
       "    <tr>\n",
       "      <th>19</th>\n",
       "      <td>College_jobs</td>\n",
       "      <td>INTEGER</td>\n",
       "    </tr>\n",
       "    <tr>\n",
       "      <th>20</th>\n",
       "      <td>Non_college_jobs</td>\n",
       "      <td>INTEGER</td>\n",
       "    </tr>\n",
       "    <tr>\n",
       "      <th>21</th>\n",
       "      <td>Low_wage_jobs</td>\n",
       "      <td>INTEGER</td>\n",
       "    </tr>\n",
       "  </tbody>\n",
       "</table>\n",
       "</div>"
      ],
      "text/plain": [
       "                    name     type\n",
       "0                  index  INTEGER\n",
       "1                   Rank  INTEGER\n",
       "2             Major_code  INTEGER\n",
       "3                  Major     TEXT\n",
       "4         Major_category     TEXT\n",
       "5                  Total  INTEGER\n",
       "6            Sample_size  INTEGER\n",
       "7                    Men  INTEGER\n",
       "8                  Women  INTEGER\n",
       "9             ShareWomen     REAL\n",
       "10              Employed  INTEGER\n",
       "11             Full_time  INTEGER\n",
       "12             Part_time  INTEGER\n",
       "13  Full_time_year_round  INTEGER\n",
       "14            Unemployed  INTEGER\n",
       "15     Unemployment_rate     REAL\n",
       "16                Median  INTEGER\n",
       "17                 P25th  INTEGER\n",
       "18                 P75th  INTEGER\n",
       "19          College_jobs  INTEGER\n",
       "20      Non_college_jobs  INTEGER\n",
       "21         Low_wage_jobs  INTEGER"
      ]
     },
     "execution_count": 12,
     "metadata": {},
     "output_type": "execute_result"
    }
   ],
   "source": [
    "query = '''\n",
    "PRAGMA TABLE_INFO(recent_grads)\n",
    "'''\n",
    "pd.read_sql(query,conn_jobs)[[1,2]]"
   ]
  },
  {
   "cell_type": "markdown",
   "metadata": {},
   "source": [
    "---"
   ]
  },
  {
   "cell_type": "markdown",
   "metadata": {},
   "source": [
    "## <p style=\"text-align: center;\"> HAND-CRAFTED QUERIES:</p>"
   ]
  },
  {
   "cell_type": "markdown",
   "metadata": {},
   "source": [
    "---"
   ]
  },
  {
   "cell_type": "markdown",
   "metadata": {},
   "source": [
    "### <p style=\"text-align: center;\"> RECENT GRADS DB: </p>"
   ]
  },
  {
   "cell_type": "code",
   "execution_count": 14,
   "metadata": {
    "collapsed": false
   },
   "outputs": [
    {
     "data": {
      "text/html": [
       "<div>\n",
       "<table border=\"1\" class=\"dataframe\">\n",
       "  <thead>\n",
       "    <tr style=\"text-align: right;\">\n",
       "      <th></th>\n",
       "      <th>Major</th>\n",
       "      <th>Median</th>\n",
       "      <th>Unemployed</th>\n",
       "    </tr>\n",
       "  </thead>\n",
       "  <tbody>\n",
       "    <tr>\n",
       "      <th>0</th>\n",
       "      <td>PETROLEUM ENGINEERING</td>\n",
       "      <td>110000</td>\n",
       "      <td>37</td>\n",
       "    </tr>\n",
       "    <tr>\n",
       "      <th>1</th>\n",
       "      <td>MINING AND MINERAL ENGINEERING</td>\n",
       "      <td>75000</td>\n",
       "      <td>85</td>\n",
       "    </tr>\n",
       "    <tr>\n",
       "      <th>2</th>\n",
       "      <td>METALLURGICAL ENGINEERING</td>\n",
       "      <td>73000</td>\n",
       "      <td>16</td>\n",
       "    </tr>\n",
       "    <tr>\n",
       "      <th>3</th>\n",
       "      <td>NAVAL ARCHITECTURE AND MARINE ENGINEERING</td>\n",
       "      <td>70000</td>\n",
       "      <td>40</td>\n",
       "    </tr>\n",
       "    <tr>\n",
       "      <th>4</th>\n",
       "      <td>NUCLEAR ENGINEERING</td>\n",
       "      <td>65000</td>\n",
       "      <td>400</td>\n",
       "    </tr>\n",
       "    <tr>\n",
       "      <th>5</th>\n",
       "      <td>ACTUARIAL SCIENCE</td>\n",
       "      <td>62000</td>\n",
       "      <td>308</td>\n",
       "    </tr>\n",
       "    <tr>\n",
       "      <th>6</th>\n",
       "      <td>ASTRONOMY AND ASTROPHYSICS</td>\n",
       "      <td>62000</td>\n",
       "      <td>33</td>\n",
       "    </tr>\n",
       "    <tr>\n",
       "      <th>7</th>\n",
       "      <td>AEROSPACE ENGINEERING</td>\n",
       "      <td>60000</td>\n",
       "      <td>794</td>\n",
       "    </tr>\n",
       "    <tr>\n",
       "      <th>8</th>\n",
       "      <td>MATERIALS SCIENCE</td>\n",
       "      <td>60000</td>\n",
       "      <td>78</td>\n",
       "    </tr>\n",
       "    <tr>\n",
       "      <th>9</th>\n",
       "      <td>ENGINEERING MECHANICS PHYSICS AND SCIENCE</td>\n",
       "      <td>58000</td>\n",
       "      <td>23</td>\n",
       "    </tr>\n",
       "  </tbody>\n",
       "</table>\n",
       "</div>"
      ],
      "text/plain": [
       "                                       Major  Median  Unemployed\n",
       "0                      PETROLEUM ENGINEERING  110000          37\n",
       "1             MINING AND MINERAL ENGINEERING   75000          85\n",
       "2                  METALLURGICAL ENGINEERING   73000          16\n",
       "3  NAVAL ARCHITECTURE AND MARINE ENGINEERING   70000          40\n",
       "4                        NUCLEAR ENGINEERING   65000         400\n",
       "5                          ACTUARIAL SCIENCE   62000         308\n",
       "6                 ASTRONOMY AND ASTROPHYSICS   62000          33\n",
       "7                      AEROSPACE ENGINEERING   60000         794\n",
       "8                          MATERIALS SCIENCE   60000          78\n",
       "9  ENGINEERING MECHANICS PHYSICS AND SCIENCE   58000          23"
      ]
     },
     "execution_count": 14,
     "metadata": {},
     "output_type": "execute_result"
    }
   ],
   "source": [
    "query = '''\n",
    "SELECT Major,Median,Unemployed FROM recent_grads\n",
    "WHERE Median < 10000 OR Unemployed <= 1000\n",
    "LIMIT 10\n",
    "'''\n",
    "pd.read_sql(query,conn_jobs)"
   ]
  },
  {
   "cell_type": "markdown",
   "metadata": {},
   "source": [
    "---"
   ]
  },
  {
   "cell_type": "code",
   "execution_count": 15,
   "metadata": {
    "collapsed": false
   },
   "outputs": [
    {
     "data": {
      "text/html": [
       "<div>\n",
       "<table border=\"1\" class=\"dataframe\">\n",
       "  <thead>\n",
       "    <tr style=\"text-align: right;\">\n",
       "      <th></th>\n",
       "      <th>Major_category</th>\n",
       "      <th>Median</th>\n",
       "      <th>Major</th>\n",
       "    </tr>\n",
       "  </thead>\n",
       "  <tbody>\n",
       "    <tr>\n",
       "      <th>0</th>\n",
       "      <td>Business</td>\n",
       "      <td>45000</td>\n",
       "      <td>ACCOUNTING</td>\n",
       "    </tr>\n",
       "    <tr>\n",
       "      <th>1</th>\n",
       "      <td>Business</td>\n",
       "      <td>62000</td>\n",
       "      <td>ACTUARIAL SCIENCE</td>\n",
       "    </tr>\n",
       "    <tr>\n",
       "      <th>2</th>\n",
       "      <td>Communications &amp; Journalism</td>\n",
       "      <td>35000</td>\n",
       "      <td>ADVERTISING AND PUBLIC RELATIONS</td>\n",
       "    </tr>\n",
       "    <tr>\n",
       "      <th>3</th>\n",
       "      <td>Engineering</td>\n",
       "      <td>60000</td>\n",
       "      <td>AEROSPACE ENGINEERING</td>\n",
       "    </tr>\n",
       "    <tr>\n",
       "      <th>4</th>\n",
       "      <td>Agriculture &amp; Natural Resources</td>\n",
       "      <td>40000</td>\n",
       "      <td>AGRICULTURAL ECONOMICS</td>\n",
       "    </tr>\n",
       "    <tr>\n",
       "      <th>5</th>\n",
       "      <td>Agriculture &amp; Natural Resources</td>\n",
       "      <td>40000</td>\n",
       "      <td>AGRICULTURE PRODUCTION AND MANAGEMENT</td>\n",
       "    </tr>\n",
       "    <tr>\n",
       "      <th>6</th>\n",
       "      <td>Agriculture &amp; Natural Resources</td>\n",
       "      <td>30000</td>\n",
       "      <td>ANIMAL SCIENCES</td>\n",
       "    </tr>\n",
       "    <tr>\n",
       "      <th>7</th>\n",
       "      <td>Humanities &amp; Liberal Arts</td>\n",
       "      <td>28000</td>\n",
       "      <td>ANTHROPOLOGY AND ARCHEOLOGY</td>\n",
       "    </tr>\n",
       "    <tr>\n",
       "      <th>8</th>\n",
       "      <td>Computers &amp; Mathematics</td>\n",
       "      <td>45000</td>\n",
       "      <td>APPLIED MATHEMATICS</td>\n",
       "    </tr>\n",
       "    <tr>\n",
       "      <th>9</th>\n",
       "      <td>Engineering</td>\n",
       "      <td>54000</td>\n",
       "      <td>ARCHITECTURAL ENGINEERING</td>\n",
       "    </tr>\n",
       "    <tr>\n",
       "      <th>10</th>\n",
       "      <td>Engineering</td>\n",
       "      <td>40000</td>\n",
       "      <td>ARCHITECTURE</td>\n",
       "    </tr>\n",
       "    <tr>\n",
       "      <th>11</th>\n",
       "      <td>Humanities &amp; Liberal Arts</td>\n",
       "      <td>35000</td>\n",
       "      <td>AREA ETHNIC AND CIVILIZATION STUDIES</td>\n",
       "    </tr>\n",
       "    <tr>\n",
       "      <th>12</th>\n",
       "      <td>Education</td>\n",
       "      <td>32100</td>\n",
       "      <td>ART AND MUSIC EDUCATION</td>\n",
       "    </tr>\n",
       "    <tr>\n",
       "      <th>13</th>\n",
       "      <td>Humanities &amp; Liberal Arts</td>\n",
       "      <td>31000</td>\n",
       "      <td>ART HISTORY AND CRITICISM</td>\n",
       "    </tr>\n",
       "    <tr>\n",
       "      <th>14</th>\n",
       "      <td>Physical Sciences</td>\n",
       "      <td>62000</td>\n",
       "      <td>ASTRONOMY AND ASTROPHYSICS</td>\n",
       "    </tr>\n",
       "    <tr>\n",
       "      <th>15</th>\n",
       "      <td>Physical Sciences</td>\n",
       "      <td>35000</td>\n",
       "      <td>ATMOSPHERIC SCIENCES AND METEOROLOGY</td>\n",
       "    </tr>\n",
       "    <tr>\n",
       "      <th>16</th>\n",
       "      <td>Biology &amp; Life Science</td>\n",
       "      <td>37400</td>\n",
       "      <td>BIOCHEMICAL SCIENCES</td>\n",
       "    </tr>\n",
       "    <tr>\n",
       "      <th>17</th>\n",
       "      <td>Engineering</td>\n",
       "      <td>57100</td>\n",
       "      <td>BIOLOGICAL ENGINEERING</td>\n",
       "    </tr>\n",
       "    <tr>\n",
       "      <th>18</th>\n",
       "      <td>Biology &amp; Life Science</td>\n",
       "      <td>33400</td>\n",
       "      <td>BIOLOGY</td>\n",
       "    </tr>\n",
       "    <tr>\n",
       "      <th>19</th>\n",
       "      <td>Engineering</td>\n",
       "      <td>60000</td>\n",
       "      <td>BIOMEDICAL ENGINEERING</td>\n",
       "    </tr>\n",
       "  </tbody>\n",
       "</table>\n",
       "</div>"
      ],
      "text/plain": [
       "                     Major_category  Median  \\\n",
       "0                          Business   45000   \n",
       "1                          Business   62000   \n",
       "2       Communications & Journalism   35000   \n",
       "3                       Engineering   60000   \n",
       "4   Agriculture & Natural Resources   40000   \n",
       "5   Agriculture & Natural Resources   40000   \n",
       "6   Agriculture & Natural Resources   30000   \n",
       "7         Humanities & Liberal Arts   28000   \n",
       "8           Computers & Mathematics   45000   \n",
       "9                       Engineering   54000   \n",
       "10                      Engineering   40000   \n",
       "11        Humanities & Liberal Arts   35000   \n",
       "12                        Education   32100   \n",
       "13        Humanities & Liberal Arts   31000   \n",
       "14                Physical Sciences   62000   \n",
       "15                Physical Sciences   35000   \n",
       "16           Biology & Life Science   37400   \n",
       "17                      Engineering   57100   \n",
       "18           Biology & Life Science   33400   \n",
       "19                      Engineering   60000   \n",
       "\n",
       "                                    Major  \n",
       "0                              ACCOUNTING  \n",
       "1                       ACTUARIAL SCIENCE  \n",
       "2        ADVERTISING AND PUBLIC RELATIONS  \n",
       "3                   AEROSPACE ENGINEERING  \n",
       "4                  AGRICULTURAL ECONOMICS  \n",
       "5   AGRICULTURE PRODUCTION AND MANAGEMENT  \n",
       "6                         ANIMAL SCIENCES  \n",
       "7             ANTHROPOLOGY AND ARCHEOLOGY  \n",
       "8                     APPLIED MATHEMATICS  \n",
       "9               ARCHITECTURAL ENGINEERING  \n",
       "10                           ARCHITECTURE  \n",
       "11   AREA ETHNIC AND CIVILIZATION STUDIES  \n",
       "12                ART AND MUSIC EDUCATION  \n",
       "13              ART HISTORY AND CRITICISM  \n",
       "14             ASTRONOMY AND ASTROPHYSICS  \n",
       "15   ATMOSPHERIC SCIENCES AND METEOROLOGY  \n",
       "16                   BIOCHEMICAL SCIENCES  \n",
       "17                 BIOLOGICAL ENGINEERING  \n",
       "18                                BIOLOGY  \n",
       "19                 BIOMEDICAL ENGINEERING  "
      ]
     },
     "execution_count": 15,
     "metadata": {},
     "output_type": "execute_result"
    }
   ],
   "source": [
    "query = '''\n",
    "SELECT Major_category,Median,Major FROM recent_grads\n",
    "ORDER BY Major ASC, Median DESC\n",
    "LIMIT 20\n",
    "'''\n",
    "pd.read_sql(query,conn_jobs)"
   ]
  },
  {
   "cell_type": "markdown",
   "metadata": {},
   "source": [
    "---"
   ]
  },
  {
   "cell_type": "code",
   "execution_count": 29,
   "metadata": {
    "collapsed": false
   },
   "outputs": [
    {
     "data": {
      "text/html": [
       "<div>\n",
       "<table border=\"1\" class=\"dataframe\">\n",
       "  <thead>\n",
       "    <tr style=\"text-align: right;\">\n",
       "      <th></th>\n",
       "      <th>Major</th>\n",
       "      <th>Total</th>\n",
       "      <th>Median</th>\n",
       "      <th>Unemployment_rate</th>\n",
       "      <th>Major_category</th>\n",
       "    </tr>\n",
       "  </thead>\n",
       "  <tbody>\n",
       "    <tr>\n",
       "      <th>0</th>\n",
       "      <td>ACTUARIAL SCIENCE</td>\n",
       "      <td>3777</td>\n",
       "      <td>62000</td>\n",
       "      <td>0.095652</td>\n",
       "      <td>Business</td>\n",
       "    </tr>\n",
       "    <tr>\n",
       "      <th>1</th>\n",
       "      <td>ASTRONOMY AND ASTROPHYSICS</td>\n",
       "      <td>1792</td>\n",
       "      <td>62000</td>\n",
       "      <td>0.021167</td>\n",
       "      <td>Physical Sciences</td>\n",
       "    </tr>\n",
       "    <tr>\n",
       "      <th>2</th>\n",
       "      <td>COURT REPORTING</td>\n",
       "      <td>1148</td>\n",
       "      <td>54000</td>\n",
       "      <td>0.011690</td>\n",
       "      <td>Law &amp; Public Policy</td>\n",
       "    </tr>\n",
       "    <tr>\n",
       "      <th>3</th>\n",
       "      <td>COMPUTER SCIENCE</td>\n",
       "      <td>128319</td>\n",
       "      <td>53000</td>\n",
       "      <td>0.063173</td>\n",
       "      <td>Computers &amp; Mathematics</td>\n",
       "    </tr>\n",
       "    <tr>\n",
       "      <th>4</th>\n",
       "      <td>FOOD SCIENCE</td>\n",
       "      <td>4361</td>\n",
       "      <td>53000</td>\n",
       "      <td>0.096931</td>\n",
       "      <td>Agriculture &amp; Natural Resources</td>\n",
       "    </tr>\n",
       "  </tbody>\n",
       "</table>\n",
       "</div>"
      ],
      "text/plain": [
       "                        Major   Total  Median  Unemployment_rate  \\\n",
       "0           ACTUARIAL SCIENCE    3777   62000           0.095652   \n",
       "1  ASTRONOMY AND ASTROPHYSICS    1792   62000           0.021167   \n",
       "2             COURT REPORTING    1148   54000           0.011690   \n",
       "3            COMPUTER SCIENCE  128319   53000           0.063173   \n",
       "4                FOOD SCIENCE    4361   53000           0.096931   \n",
       "\n",
       "                    Major_category  \n",
       "0                         Business  \n",
       "1                Physical Sciences  \n",
       "2              Law & Public Policy  \n",
       "3          Computers & Mathematics  \n",
       "4  Agriculture & Natural Resources  "
      ]
     },
     "execution_count": 29,
     "metadata": {},
     "output_type": "execute_result"
    }
   ],
   "source": [
    "query = '''\n",
    "SELECT Major,Total,Median,Unemployment_rate, MAJOR_CATEGORY FROM recent_grads\n",
    "WHERE Major_CATEGORY != 'Engineering'\n",
    "AND (Median <= 50000 OR Unemployed > .065)\n",
    "ORDER BY Median DESC\n",
    "LIMIT 5\n",
    "'''\n",
    "pd.read_sql(query,conn_jobs)"
   ]
  },
  {
   "cell_type": "markdown",
   "metadata": {},
   "source": [
    "----"
   ]
  },
  {
   "cell_type": "code",
   "execution_count": 33,
   "metadata": {
    "collapsed": false
   },
   "outputs": [
    {
     "data": {
      "text/html": [
       "<div>\n",
       "<table border=\"1\" class=\"dataframe\">\n",
       "  <thead>\n",
       "    <tr style=\"text-align: right;\">\n",
       "      <th></th>\n",
       "      <th>Major_category</th>\n",
       "      <th>share_low_wage</th>\n",
       "    </tr>\n",
       "  </thead>\n",
       "  <tbody>\n",
       "    <tr>\n",
       "      <th>0</th>\n",
       "      <td>Arts</td>\n",
       "      <td>0.168331</td>\n",
       "    </tr>\n",
       "    <tr>\n",
       "      <th>1</th>\n",
       "      <td>Communications &amp; Journalism</td>\n",
       "      <td>0.126324</td>\n",
       "    </tr>\n",
       "    <tr>\n",
       "      <th>2</th>\n",
       "      <td>Humanities &amp; Liberal Arts</td>\n",
       "      <td>0.132087</td>\n",
       "    </tr>\n",
       "    <tr>\n",
       "      <th>3</th>\n",
       "      <td>Industrial Arts &amp; Consumer Services</td>\n",
       "      <td>0.115713</td>\n",
       "    </tr>\n",
       "    <tr>\n",
       "      <th>4</th>\n",
       "      <td>Law &amp; Public Policy</td>\n",
       "      <td>0.115685</td>\n",
       "    </tr>\n",
       "    <tr>\n",
       "      <th>5</th>\n",
       "      <td>Psychology &amp; Social Work</td>\n",
       "      <td>0.116934</td>\n",
       "    </tr>\n",
       "    <tr>\n",
       "      <th>6</th>\n",
       "      <td>Social Science</td>\n",
       "      <td>0.102233</td>\n",
       "    </tr>\n",
       "  </tbody>\n",
       "</table>\n",
       "</div>"
      ],
      "text/plain": [
       "                        Major_category  share_low_wage\n",
       "0                                 Arts        0.168331\n",
       "1          Communications & Journalism        0.126324\n",
       "2            Humanities & Liberal Arts        0.132087\n",
       "3  Industrial Arts & Consumer Services        0.115713\n",
       "4                  Law & Public Policy        0.115685\n",
       "5             Psychology & Social Work        0.116934\n",
       "6                       Social Science        0.102233"
      ]
     },
     "execution_count": 33,
     "metadata": {},
     "output_type": "execute_result"
    }
   ],
   "source": [
    "query = '''\n",
    "SELECT Major_category, AVG(Low_wage_jobs)/AVG(Total) AS share_low_wage\n",
    "FROM recent_grads\n",
    "GROUP BY Major_category\n",
    "HAVING share_low_wage > .1\n",
    "'''\n",
    "pd.read_sql(query,conn_jobs)"
   ]
  },
  {
   "cell_type": "markdown",
   "metadata": {},
   "source": [
    "---"
   ]
  },
  {
   "cell_type": "code",
   "execution_count": 59,
   "metadata": {
    "collapsed": false
   },
   "outputs": [
    {
     "data": {
      "text/html": [
       "<div>\n",
       "<table border=\"1\" class=\"dataframe\">\n",
       "  <thead>\n",
       "    <tr style=\"text-align: right;\">\n",
       "      <th></th>\n",
       "      <th>Major_category</th>\n",
       "      <th>share_degree_jobs</th>\n",
       "    </tr>\n",
       "  </thead>\n",
       "  <tbody>\n",
       "    <tr>\n",
       "      <th>0</th>\n",
       "      <td>Agriculture &amp; Natural Resources</td>\n",
       "      <td>0.248</td>\n",
       "    </tr>\n",
       "    <tr>\n",
       "      <th>1</th>\n",
       "      <td>Arts</td>\n",
       "      <td>0.265</td>\n",
       "    </tr>\n",
       "    <tr>\n",
       "      <th>2</th>\n",
       "      <td>Business</td>\n",
       "      <td>0.114</td>\n",
       "    </tr>\n",
       "    <tr>\n",
       "      <th>3</th>\n",
       "      <td>Communications &amp; Journalism</td>\n",
       "      <td>0.220</td>\n",
       "    </tr>\n",
       "    <tr>\n",
       "      <th>4</th>\n",
       "      <td>Humanities &amp; Liberal Arts</td>\n",
       "      <td>0.270</td>\n",
       "    </tr>\n",
       "    <tr>\n",
       "      <th>5</th>\n",
       "      <td>Industrial Arts &amp; Consumer Services</td>\n",
       "      <td>0.249</td>\n",
       "    </tr>\n",
       "    <tr>\n",
       "      <th>6</th>\n",
       "      <td>Law &amp; Public Policy</td>\n",
       "      <td>0.163</td>\n",
       "    </tr>\n",
       "    <tr>\n",
       "      <th>7</th>\n",
       "      <td>Social Science</td>\n",
       "      <td>0.215</td>\n",
       "    </tr>\n",
       "  </tbody>\n",
       "</table>\n",
       "</div>"
      ],
      "text/plain": [
       "                        Major_category  share_degree_jobs\n",
       "0      Agriculture & Natural Resources              0.248\n",
       "1                                 Arts              0.265\n",
       "2                             Business              0.114\n",
       "3          Communications & Journalism              0.220\n",
       "4            Humanities & Liberal Arts              0.270\n",
       "5  Industrial Arts & Consumer Services              0.249\n",
       "6                  Law & Public Policy              0.163\n",
       "7                       Social Science              0.215"
      ]
     },
     "execution_count": 59,
     "metadata": {},
     "output_type": "execute_result"
    }
   ],
   "source": [
    "query = '''\n",
    "SELECT Major_category, \n",
    "ROUND(AVG(College_jobs)/AVG(Total),3) AS share_degree_jobs\n",
    "\n",
    "FROM recent_grads\n",
    "GROUP BY Major_category\n",
    "HAVING share_degree_jobs < .3\n",
    "'''\n",
    "pd.read_sql(query,conn_jobs)"
   ]
  },
  {
   "cell_type": "markdown",
   "metadata": {},
   "source": [
    "---"
   ]
  },
  {
   "cell_type": "code",
   "execution_count": 66,
   "metadata": {
    "collapsed": false
   },
   "outputs": [
    {
     "data": {
      "text/html": [
       "<div>\n",
       "<table border=\"1\" class=\"dataframe\">\n",
       "  <thead>\n",
       "    <tr style=\"text-align: right;\">\n",
       "      <th></th>\n",
       "      <th>total_men</th>\n",
       "      <th>total_women</th>\n",
       "      <th>People</th>\n",
       "      <th>Men_to_Women_Ratio</th>\n",
       "    </tr>\n",
       "  </thead>\n",
       "  <tbody>\n",
       "    <tr>\n",
       "      <th>0</th>\n",
       "      <td>2878263</td>\n",
       "      <td>3897752</td>\n",
       "      <td>6776015</td>\n",
       "      <td>0.738442</td>\n",
       "    </tr>\n",
       "  </tbody>\n",
       "</table>\n",
       "</div>"
      ],
      "text/plain": [
       "   total_men  total_women   People  Men_to_Women_Ratio\n",
       "0    2878263      3897752  6776015            0.738442"
      ]
     },
     "execution_count": 66,
     "metadata": {},
     "output_type": "execute_result"
    }
   ],
   "source": [
    "query = '''\n",
    "SELECT TOTAL(Men) AS total_men, TOTAL(Women) AS total_women,\n",
    "(Total(Men)+Total(Women)) AS People,\n",
    "(Total(Men)/Total(Women)) AS Men_to_Women_Ratio\n",
    "FROM recent_grads\n",
    "'''\n",
    "pd.read_sql(query,conn_jobs)"
   ]
  },
  {
   "cell_type": "markdown",
   "metadata": {},
   "source": [
    "---"
   ]
  },
  {
   "cell_type": "markdown",
   "metadata": {},
   "source": [
    "### <p style=\"text-align: center;\">USEFUL CODE-BITS REPOSITORY:</p>"
   ]
  },
  {
   "cell_type": "markdown",
   "metadata": {},
   "source": [
    "conn_factbook = sqlite3.connect('factbook.db')\n",
    "conn_nominations = sqlite3.connect('nominations.db')\n",
    "conn_awards = sqlite3.connect('academy_awards_multi.db ')\n",
    "conn_jobs = sqlite3.connect('jobs.db')"
   ]
  },
  {
   "cell_type": "markdown",
   "metadata": {},
   "source": [
    "query = '''\n",
    "\n",
    "'''\n",
    "pd.read_sql(query,conn_jobs)"
   ]
  },
  {
   "cell_type": "markdown",
   "metadata": {},
   "source": [
    " <p style=\"text-align: center;\"> centered-markdown-here </p>"
   ]
  }
 ],
 "metadata": {
  "kernelspec": {
   "display_name": "Python 2",
   "language": "python",
   "name": "python2"
  },
  "language_info": {
   "codemirror_mode": {
    "name": "ipython",
    "version": 2
   },
   "file_extension": ".py",
   "mimetype": "text/x-python",
   "name": "python",
   "nbconvert_exporter": "python",
   "pygments_lexer": "ipython2",
   "version": "2.7.11"
  }
 },
 "nbformat": 4,
 "nbformat_minor": 0
}
