{
 "cells": [
  {
   "cell_type": "markdown",
   "metadata": {},
   "source": [
    "# BUSINESS PROBLEM: Positional Differences"
   ]
  },
  {
   "cell_type": "markdown",
   "metadata": {},
   "source": [
    "---"
   ]
  },
  {
   "cell_type": "raw",
   "metadata": {},
   "source": [
    "Two comma delimited files are provided, representing asset positions for two consecutive days\n",
    "    One for Day1 asset positions\n",
    "    Another for Day2 asset positions\n",
    "    There has been buying and selling of assets activity between D1 and D2\n",
    "    \n",
    "Each file contains the following data:\n",
    "    FILEDAY,ACCT,ASSET,UNITS\n",
    "        FILEDAY is the day when asset positions file has been generated\n",
    "        ACCT is a unique account identifier\n",
    "        ASSET is a unique asset identifier\n",
    "        UNITS is how many of each asset are owned by the account\n",
    "\n",
    "MISSION:Determine which accounts had positional changes from day1 to day2: Which accounts bought or sold some or all of their current assets or bought brand new assets\n",
    "        \n",
    "NOTE: Resulting accounts and ALL of their Day2 data will be loaded into another database to update current activity"
   ]
  },
  {
   "cell_type": "markdown",
   "metadata": {},
   "source": [
    "----"
   ]
  },
  {
   "cell_type": "code",
   "execution_count": 8,
   "metadata": {
    "collapsed": true
   },
   "outputs": [],
   "source": [
    "import pandas as pd"
   ]
  },
  {
   "cell_type": "markdown",
   "metadata": {},
   "source": [
    "---"
   ]
  },
  {
   "cell_type": "code",
   "execution_count": 17,
   "metadata": {
    "collapsed": false
   },
   "outputs": [
    {
     "data": {
      "text/html": [
       "<div>\n",
       "<table border=\"1\" class=\"dataframe\">\n",
       "  <thead>\n",
       "    <tr style=\"text-align: right;\">\n",
       "      <th></th>\n",
       "      <th>FILEDAY</th>\n",
       "      <th>ACCT</th>\n",
       "      <th>ASSET</th>\n",
       "      <th>UNITS</th>\n",
       "    </tr>\n",
       "  </thead>\n",
       "  <tbody>\n",
       "    <tr>\n",
       "      <th>0</th>\n",
       "      <td>1</td>\n",
       "      <td>11</td>\n",
       "      <td>A</td>\n",
       "      <td>1</td>\n",
       "    </tr>\n",
       "    <tr>\n",
       "      <th>1</th>\n",
       "      <td>1</td>\n",
       "      <td>11</td>\n",
       "      <td>B</td>\n",
       "      <td>2</td>\n",
       "    </tr>\n",
       "    <tr>\n",
       "      <th>2</th>\n",
       "      <td>1</td>\n",
       "      <td>11</td>\n",
       "      <td>C</td>\n",
       "      <td>3</td>\n",
       "    </tr>\n",
       "    <tr>\n",
       "      <th>3</th>\n",
       "      <td>1</td>\n",
       "      <td>22</td>\n",
       "      <td>A</td>\n",
       "      <td>1</td>\n",
       "    </tr>\n",
       "    <tr>\n",
       "      <th>4</th>\n",
       "      <td>1</td>\n",
       "      <td>22</td>\n",
       "      <td>B</td>\n",
       "      <td>2</td>\n",
       "    </tr>\n",
       "    <tr>\n",
       "      <th>5</th>\n",
       "      <td>1</td>\n",
       "      <td>22</td>\n",
       "      <td>C</td>\n",
       "      <td>3</td>\n",
       "    </tr>\n",
       "    <tr>\n",
       "      <th>6</th>\n",
       "      <td>1</td>\n",
       "      <td>22</td>\n",
       "      <td>D</td>\n",
       "      <td>4</td>\n",
       "    </tr>\n",
       "    <tr>\n",
       "      <th>7</th>\n",
       "      <td>1</td>\n",
       "      <td>33</td>\n",
       "      <td>A</td>\n",
       "      <td>1</td>\n",
       "    </tr>\n",
       "  </tbody>\n",
       "</table>\n",
       "</div>"
      ],
      "text/plain": [
       "   FILEDAY  ACCT ASSET  UNITS\n",
       "0        1    11     A      1\n",
       "1        1    11     B      2\n",
       "2        1    11     C      3\n",
       "3        1    22     A      1\n",
       "4        1    22     B      2\n",
       "5        1    22     C      3\n",
       "6        1    22     D      4\n",
       "7        1    33     A      1"
      ]
     },
     "execution_count": 17,
     "metadata": {},
     "output_type": "execute_result"
    }
   ],
   "source": [
    "file1 = pd.read_csv('TEST_FILE_D1.csv',delimiter=',')\n",
    "file1"
   ]
  },
  {
   "cell_type": "code",
   "execution_count": 18,
   "metadata": {
    "collapsed": false
   },
   "outputs": [
    {
     "data": {
      "text/html": [
       "<div>\n",
       "<table border=\"1\" class=\"dataframe\">\n",
       "  <thead>\n",
       "    <tr style=\"text-align: right;\">\n",
       "      <th></th>\n",
       "      <th>FILEDAY</th>\n",
       "      <th>ACCT</th>\n",
       "      <th>ASSET</th>\n",
       "      <th>UNITS</th>\n",
       "    </tr>\n",
       "  </thead>\n",
       "  <tbody>\n",
       "    <tr>\n",
       "      <th>0</th>\n",
       "      <td>2</td>\n",
       "      <td>11</td>\n",
       "      <td>A</td>\n",
       "      <td>1</td>\n",
       "    </tr>\n",
       "    <tr>\n",
       "      <th>1</th>\n",
       "      <td>2</td>\n",
       "      <td>11</td>\n",
       "      <td>B</td>\n",
       "      <td>2</td>\n",
       "    </tr>\n",
       "    <tr>\n",
       "      <th>2</th>\n",
       "      <td>2</td>\n",
       "      <td>11</td>\n",
       "      <td>C</td>\n",
       "      <td>3</td>\n",
       "    </tr>\n",
       "    <tr>\n",
       "      <th>3</th>\n",
       "      <td>2</td>\n",
       "      <td>22</td>\n",
       "      <td>A</td>\n",
       "      <td>2</td>\n",
       "    </tr>\n",
       "    <tr>\n",
       "      <th>4</th>\n",
       "      <td>2</td>\n",
       "      <td>22</td>\n",
       "      <td>B</td>\n",
       "      <td>2</td>\n",
       "    </tr>\n",
       "    <tr>\n",
       "      <th>5</th>\n",
       "      <td>2</td>\n",
       "      <td>22</td>\n",
       "      <td>C</td>\n",
       "      <td>3</td>\n",
       "    </tr>\n",
       "    <tr>\n",
       "      <th>6</th>\n",
       "      <td>2</td>\n",
       "      <td>22</td>\n",
       "      <td>D</td>\n",
       "      <td>4</td>\n",
       "    </tr>\n",
       "    <tr>\n",
       "      <th>7</th>\n",
       "      <td>2</td>\n",
       "      <td>33</td>\n",
       "      <td>A</td>\n",
       "      <td>4</td>\n",
       "    </tr>\n",
       "  </tbody>\n",
       "</table>\n",
       "</div>"
      ],
      "text/plain": [
       "   FILEDAY  ACCT ASSET  UNITS\n",
       "0        2    11     A      1\n",
       "1        2    11     B      2\n",
       "2        2    11     C      3\n",
       "3        2    22     A      2\n",
       "4        2    22     B      2\n",
       "5        2    22     C      3\n",
       "6        2    22     D      4\n",
       "7        2    33     A      4"
      ]
     },
     "execution_count": 18,
     "metadata": {},
     "output_type": "execute_result"
    }
   ],
   "source": [
    "file2 = pd.read_csv('TEST_FILE_D2.csv',delimiter=',')\n",
    "file2"
   ]
  },
  {
   "cell_type": "markdown",
   "metadata": {},
   "source": [
    "---"
   ]
  },
  {
   "cell_type": "code",
   "execution_count": 12,
   "metadata": {
    "collapsed": false
   },
   "outputs": [
    {
     "data": {
      "text/plain": [
       "[[11, 'A', 1],\n",
       " [11, 'B', 2],\n",
       " [11, 'C', 3],\n",
       " [22, 'A', 1],\n",
       " [22, 'B', 2],\n",
       " [22, 'C', 3],\n",
       " [22, 'D', 4],\n",
       " [33, 'A', 1]]"
      ]
     },
     "execution_count": 12,
     "metadata": {},
     "output_type": "execute_result"
    }
   ],
   "source": [
    "positionsD1 = []\n",
    "for x in range(len(file1)):\n",
    "    positionsD1.append([x for x in file1.ix[x][1:4]])\n",
    "positionsD1"
   ]
  },
  {
   "cell_type": "code",
   "execution_count": 13,
   "metadata": {
    "collapsed": false
   },
   "outputs": [
    {
     "data": {
      "text/plain": [
       "[[11, 'A', 1],\n",
       " [11, 'B', 2],\n",
       " [11, 'C', 3],\n",
       " [22, 'A', 1],\n",
       " [22, 'B', 2],\n",
       " [22, 'C', 3],\n",
       " [22, 'D', 4],\n",
       " [33, 'A', 1]]"
      ]
     },
     "execution_count": 13,
     "metadata": {},
     "output_type": "execute_result"
    }
   ],
   "source": [
    "positionsD2 = []\n",
    "for x in range(len(file2)):\n",
    "    positionsD2.append([x for x in file2.ix[x][1:4]])\n",
    "positionsD1"
   ]
  },
  {
   "cell_type": "code",
   "execution_count": 24,
   "metadata": {
    "collapsed": false
   },
   "outputs": [
    {
     "name": "stdout",
     "output_type": "stream",
     "text": [
      "['D1 different that D2:', [22, 'A', 1]]\n",
      "['D1 different that D2:', [33, 'A', 1]]\n",
      "['D2 different than D1:', [22, 'A', 2]]\n",
      "['D2 different than D1:', [33, 'A', 4]]\n"
     ]
    }
   ],
   "source": [
    "differential_accounts = []\n",
    "\n",
    "for x in positionsD1:\n",
    "    if x not in positionsD2:\n",
    "        result_D1 = (['D1 different that D2:',x])\n",
    "        print(result_D1)\n",
    "        differential_accounts.append(result_D1[1][0])\n",
    "        \n",
    "for x in positionsD2:\n",
    "    if x not in positionsD1:\n",
    "        result_D2 = (['D2 different than D1:',x])\n",
    "        print(result_D2)\n",
    "        differential_accounts.append(result_D2[1][0])"
   ]
  },
  {
   "cell_type": "code",
   "execution_count": 25,
   "metadata": {
    "collapsed": false
   },
   "outputs": [
    {
     "name": "stdout",
     "output_type": "stream",
     "text": [
      "ACCT# WITH CHANGES: 33\n",
      "ACCT# WITH CHANGES: 22\n"
     ]
    }
   ],
   "source": [
    "differential_accounts = set(differential_accounts)\n",
    "for x in differential_accounts:\n",
    "    print('ACCT# WITH CHANGES: %i') % x"
   ]
  },
  {
   "cell_type": "markdown",
   "metadata": {},
   "source": [
    "----"
   ]
  }
 ],
 "metadata": {
  "kernelspec": {
   "display_name": "Python 2",
   "language": "python",
   "name": "python2"
  },
  "language_info": {
   "codemirror_mode": {
    "name": "ipython",
    "version": 2
   },
   "file_extension": ".py",
   "mimetype": "text/x-python",
   "name": "python",
   "nbconvert_exporter": "python",
   "pygments_lexer": "ipython2",
   "version": "2.7.11"
  }
 },
 "nbformat": 4,
 "nbformat_minor": 0
}
